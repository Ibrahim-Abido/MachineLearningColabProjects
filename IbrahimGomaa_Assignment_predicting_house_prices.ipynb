{
  "nbformat": 4,
  "nbformat_minor": 0,
  "metadata": {
    "colab": {
      "name": "IbrahimGomaa-Assignment-predicting-house-prices.ipynb",
      "provenance": [],
      "collapsed_sections": [],
      "include_colab_link": true
    },
    "kernelspec": {
      "name": "python3",
      "display_name": "Python 3"
    },
    "accelerator": "GPU"
  },
  "cells": [
    {
      "cell_type": "markdown",
      "metadata": {
        "id": "view-in-github",
        "colab_type": "text"
      },
      "source": [
        "<a href=\"https://colab.research.google.com/github/Ibrahim-Abido/MachineLearningColabProjects/blob/PredictingHousePrice/IbrahimGomaa_Assignment_predicting_house_prices.ipynb\" target=\"_parent\"><img src=\"https://colab.research.google.com/assets/colab-badge.svg\" alt=\"Open In Colab\"/></a>"
      ]
    },
    {
      "cell_type": "code",
      "metadata": {
        "id": "YkHoQI3Js9Vp",
        "colab": {
          "base_uri": "https://localhost:8080/",
          "height": 51
        },
        "outputId": "dbb1ccca-8db9-416d-9340-226b9a52b9f4"
      },
      "source": [
        "import keras\n",
        "keras.__version__"
      ],
      "execution_count": null,
      "outputs": [
        {
          "output_type": "stream",
          "text": [
            "Using TensorFlow backend.\n"
          ],
          "name": "stderr"
        },
        {
          "output_type": "execute_result",
          "data": {
            "text/plain": [
              "'2.2.4'"
            ]
          },
          "metadata": {
            "tags": []
          },
          "execution_count": 1
        }
      ]
    },
    {
      "cell_type": "markdown",
      "metadata": {
        "id": "IfhXGI8As9Vv"
      },
      "source": [
        "# Predicting house prices: a regression example\n",
        "\n",
        "This notebook contains the code samples found in Chapter 3, Section 6 of [Deep Learning with Python](https://www.manning.com/books/deep-learning-with-python?a_aid=keras&a_bid=76564dff). Note that the original text features far more content, in particular further explanations and figures: in this notebook, you will only find source code and related comments.\n",
        "\n",
        "----\n",
        "\n",
        "\n",
        "In our two previous examples, we were considering classification problems, where the goal was to predict a single discrete label of an \n",
        "input data point. Another common type of machine learning problem is \"regression\", which consists of predicting a continuous value instead \n",
        "of a discrete label. For instance, predicting the temperature tomorrow, given meteorological data, or predicting the time that a \n",
        "software project will take to complete, given its specifications.\n",
        "\n",
        "Do not mix up \"regression\" with the algorithm \"logistic regression\": confusingly, \"logistic regression\" is not a regression algorithm, \n",
        "it is a classification algorithm."
      ]
    },
    {
      "cell_type": "markdown",
      "metadata": {
        "id": "AHuw9eMcs9Vw"
      },
      "source": [
        "## The Boston Housing Price dataset\n",
        "\n",
        "\n",
        "We will be attempting to predict the median price of homes in a given Boston suburb in the mid-1970s, given a few data points about the \n",
        "suburb at the time, such as the crime rate, the local property tax rate, etc.\n",
        "\n",
        "The dataset we will be using has another interesting difference from our two previous examples: it has very few data points, only 506 in \n",
        "total, split between 404 training samples and 102 test samples, and each \"feature\" in the input data (e.g. the crime rate is a feature) has \n",
        "a different scale. For instance some values are proportions, which take a values between 0 and 1, others take values between 1 and 12, \n",
        "others between 0 and 100...\n",
        "\n",
        "Let's take a look at the data:"
      ]
    },
    {
      "cell_type": "code",
      "metadata": {
        "id": "FYSTGhuIs9Vy",
        "colab": {
          "base_uri": "https://localhost:8080/",
          "height": 51
        },
        "outputId": "babae44e-59bf-41ad-c378-604acac18d24"
      },
      "source": [
        "from keras.datasets import boston_housing\n",
        "\n",
        "(train_data, train_targets), (test_data, test_targets) =  boston_housing.load_data()"
      ],
      "execution_count": null,
      "outputs": [
        {
          "output_type": "stream",
          "text": [
            "Downloading data from https://s3.amazonaws.com/keras-datasets/boston_housing.npz\n",
            "57344/57026 [==============================] - 0s 2us/step\n"
          ],
          "name": "stdout"
        }
      ]
    },
    {
      "cell_type": "code",
      "metadata": {
        "id": "aFF7IUD_s9V2",
        "colab": {
          "base_uri": "https://localhost:8080/",
          "height": 34
        },
        "outputId": "aa8cc240-2543-4dee-88d2-6afd5f4fbf8c"
      },
      "source": [
        "train_data.shape"
      ],
      "execution_count": null,
      "outputs": [
        {
          "output_type": "execute_result",
          "data": {
            "text/plain": [
              "(404, 13)"
            ]
          },
          "metadata": {
            "tags": []
          },
          "execution_count": 3
        }
      ]
    },
    {
      "cell_type": "code",
      "metadata": {
        "id": "ivsv6JyLs9V8",
        "colab": {
          "base_uri": "https://localhost:8080/",
          "height": 34
        },
        "outputId": "bd2dffcc-d6d5-454e-81fd-07dbf28584e8"
      },
      "source": [
        "test_data.shape"
      ],
      "execution_count": null,
      "outputs": [
        {
          "output_type": "execute_result",
          "data": {
            "text/plain": [
              "(102, 13)"
            ]
          },
          "metadata": {
            "tags": []
          },
          "execution_count": 4
        }
      ]
    },
    {
      "cell_type": "code",
      "metadata": {
        "id": "AXkso6R_hyIu",
        "colab": {
          "base_uri": "https://localhost:8080/",
          "height": 34
        },
        "outputId": "bb2873c7-a468-462c-a5fa-1d7347b9ffae"
      },
      "source": [
        "type(train_data)"
      ],
      "execution_count": null,
      "outputs": [
        {
          "output_type": "execute_result",
          "data": {
            "text/plain": [
              "numpy.ndarray"
            ]
          },
          "metadata": {
            "tags": []
          },
          "execution_count": 5
        }
      ]
    },
    {
      "cell_type": "code",
      "metadata": {
        "id": "40JCQd3ziapZ"
      },
      "source": [
        "import numpy as np\n",
        "\n",
        "trainSet=[np.append(train_data[x],train_targets[x]) for x in range(len(train_targets))]\n"
      ],
      "execution_count": null,
      "outputs": []
    },
    {
      "cell_type": "code",
      "metadata": {
        "id": "ONIl2yRAk47M"
      },
      "source": [
        "trainSet=np.array(trainSet)"
      ],
      "execution_count": null,
      "outputs": []
    },
    {
      "cell_type": "code",
      "metadata": {
        "id": "AcIdOu3SlHD2"
      },
      "source": [
        "testSet=[np.append(test_data[x],test_targets[x]) for x in range(len(test_targets))]"
      ],
      "execution_count": null,
      "outputs": []
    },
    {
      "cell_type": "code",
      "metadata": {
        "id": "FJCgOHNxlSuQ"
      },
      "source": [
        "testSet=np.array(testSet)"
      ],
      "execution_count": null,
      "outputs": []
    },
    {
      "cell_type": "code",
      "metadata": {
        "id": "Eed7Knyukquy",
        "colab": {
          "base_uri": "https://localhost:8080/",
          "height": 34
        },
        "outputId": "a1c8c00b-32e0-442c-cff3-773dcf5d319c"
      },
      "source": [
        "trainSet.shape"
      ],
      "execution_count": null,
      "outputs": [
        {
          "output_type": "execute_result",
          "data": {
            "text/plain": [
              "(404, 14)"
            ]
          },
          "metadata": {
            "tags": []
          },
          "execution_count": 10
        }
      ]
    },
    {
      "cell_type": "code",
      "metadata": {
        "id": "2hZOGWl7lY92",
        "colab": {
          "base_uri": "https://localhost:8080/",
          "height": 34
        },
        "outputId": "e3b26da6-4bc3-41a7-c1a3-ed4bc3357711"
      },
      "source": [
        "testSet.shape"
      ],
      "execution_count": null,
      "outputs": [
        {
          "output_type": "execute_result",
          "data": {
            "text/plain": [
              "(102, 14)"
            ]
          },
          "metadata": {
            "tags": []
          },
          "execution_count": 11
        }
      ]
    },
    {
      "cell_type": "markdown",
      "metadata": {
        "id": "Wdf8-owE96_K"
      },
      "source": [
        "##I prefere to work with pandas dataframes to view data well"
      ]
    },
    {
      "cell_type": "code",
      "metadata": {
        "id": "rHzh7BT2hPxp"
      },
      "source": [
        "import pandas as pd\n",
        "train_df = pd.DataFrame(trainSet,columns=['PC_CR', 'PRLZ', 'PNRBAPT', 'CR_DV', 'NO_C/10 million','AVG.No.R/D','POOU_Perior 1940','WD_FBEC','IA to RH','tax per $10,000','P/T per town','BlackP/town','LS of pop','Target'])"
      ],
      "execution_count": null,
      "outputs": []
    },
    {
      "cell_type": "code",
      "metadata": {
        "id": "24ZGCpGMlX3D",
        "colab": {
          "base_uri": "https://localhost:8080/",
          "height": 119
        },
        "outputId": "a39b5249-ad5b-4af9-8a99-1c02cc1266c3"
      },
      "source": [
        "train_df['Target'].head()"
      ],
      "execution_count": null,
      "outputs": [
        {
          "output_type": "execute_result",
          "data": {
            "text/plain": [
              "0    15.2\n",
              "1    42.3\n",
              "2    50.0\n",
              "3    21.1\n",
              "4    17.7\n",
              "Name: Target, dtype: float64"
            ]
          },
          "metadata": {
            "tags": []
          },
          "execution_count": 13
        }
      ]
    },
    {
      "cell_type": "code",
      "metadata": {
        "id": "Uk0Tg9x9nfXD",
        "colab": {
          "base_uri": "https://localhost:8080/",
          "height": 221
        },
        "outputId": "823280ed-3745-4a8c-f2cd-cae8ddf41275"
      },
      "source": [
        "train_df.head()"
      ],
      "execution_count": null,
      "outputs": [
        {
          "output_type": "execute_result",
          "data": {
            "text/html": [
              "<div>\n",
              "<style scoped>\n",
              "    .dataframe tbody tr th:only-of-type {\n",
              "        vertical-align: middle;\n",
              "    }\n",
              "\n",
              "    .dataframe tbody tr th {\n",
              "        vertical-align: top;\n",
              "    }\n",
              "\n",
              "    .dataframe thead th {\n",
              "        text-align: right;\n",
              "    }\n",
              "</style>\n",
              "<table border=\"1\" class=\"dataframe\">\n",
              "  <thead>\n",
              "    <tr style=\"text-align: right;\">\n",
              "      <th></th>\n",
              "      <th>PC_CR</th>\n",
              "      <th>PRLZ</th>\n",
              "      <th>PNRBAPT</th>\n",
              "      <th>CR_DV</th>\n",
              "      <th>NO_C/10 million</th>\n",
              "      <th>AVG.No.R/D</th>\n",
              "      <th>POOU_Perior 1940</th>\n",
              "      <th>WD_FBEC</th>\n",
              "      <th>IA to RH</th>\n",
              "      <th>tax per $10,000</th>\n",
              "      <th>P/T per town</th>\n",
              "      <th>BlackP/town</th>\n",
              "      <th>LS of pop</th>\n",
              "      <th>Target</th>\n",
              "    </tr>\n",
              "  </thead>\n",
              "  <tbody>\n",
              "    <tr>\n",
              "      <th>0</th>\n",
              "      <td>1.23247</td>\n",
              "      <td>0.0</td>\n",
              "      <td>8.14</td>\n",
              "      <td>0.0</td>\n",
              "      <td>0.538</td>\n",
              "      <td>6.142</td>\n",
              "      <td>91.7</td>\n",
              "      <td>3.9769</td>\n",
              "      <td>4.0</td>\n",
              "      <td>307.0</td>\n",
              "      <td>21.0</td>\n",
              "      <td>396.90</td>\n",
              "      <td>18.72</td>\n",
              "      <td>15.2</td>\n",
              "    </tr>\n",
              "    <tr>\n",
              "      <th>1</th>\n",
              "      <td>0.02177</td>\n",
              "      <td>82.5</td>\n",
              "      <td>2.03</td>\n",
              "      <td>0.0</td>\n",
              "      <td>0.415</td>\n",
              "      <td>7.610</td>\n",
              "      <td>15.7</td>\n",
              "      <td>6.2700</td>\n",
              "      <td>2.0</td>\n",
              "      <td>348.0</td>\n",
              "      <td>14.7</td>\n",
              "      <td>395.38</td>\n",
              "      <td>3.11</td>\n",
              "      <td>42.3</td>\n",
              "    </tr>\n",
              "    <tr>\n",
              "      <th>2</th>\n",
              "      <td>4.89822</td>\n",
              "      <td>0.0</td>\n",
              "      <td>18.10</td>\n",
              "      <td>0.0</td>\n",
              "      <td>0.631</td>\n",
              "      <td>4.970</td>\n",
              "      <td>100.0</td>\n",
              "      <td>1.3325</td>\n",
              "      <td>24.0</td>\n",
              "      <td>666.0</td>\n",
              "      <td>20.2</td>\n",
              "      <td>375.52</td>\n",
              "      <td>3.26</td>\n",
              "      <td>50.0</td>\n",
              "    </tr>\n",
              "    <tr>\n",
              "      <th>3</th>\n",
              "      <td>0.03961</td>\n",
              "      <td>0.0</td>\n",
              "      <td>5.19</td>\n",
              "      <td>0.0</td>\n",
              "      <td>0.515</td>\n",
              "      <td>6.037</td>\n",
              "      <td>34.5</td>\n",
              "      <td>5.9853</td>\n",
              "      <td>5.0</td>\n",
              "      <td>224.0</td>\n",
              "      <td>20.2</td>\n",
              "      <td>396.90</td>\n",
              "      <td>8.01</td>\n",
              "      <td>21.1</td>\n",
              "    </tr>\n",
              "    <tr>\n",
              "      <th>4</th>\n",
              "      <td>3.69311</td>\n",
              "      <td>0.0</td>\n",
              "      <td>18.10</td>\n",
              "      <td>0.0</td>\n",
              "      <td>0.713</td>\n",
              "      <td>6.376</td>\n",
              "      <td>88.4</td>\n",
              "      <td>2.5671</td>\n",
              "      <td>24.0</td>\n",
              "      <td>666.0</td>\n",
              "      <td>20.2</td>\n",
              "      <td>391.43</td>\n",
              "      <td>14.65</td>\n",
              "      <td>17.7</td>\n",
              "    </tr>\n",
              "  </tbody>\n",
              "</table>\n",
              "</div>"
            ],
            "text/plain": [
              "     PC_CR  PRLZ  PNRBAPT  CR_DV  NO_C/10 million  AVG.No.R/D  \\\n",
              "0  1.23247   0.0     8.14    0.0            0.538       6.142   \n",
              "1  0.02177  82.5     2.03    0.0            0.415       7.610   \n",
              "2  4.89822   0.0    18.10    0.0            0.631       4.970   \n",
              "3  0.03961   0.0     5.19    0.0            0.515       6.037   \n",
              "4  3.69311   0.0    18.10    0.0            0.713       6.376   \n",
              "\n",
              "   POOU_Perior 1940  WD_FBEC  IA to RH  tax per $10,000  P/T per town  \\\n",
              "0              91.7   3.9769       4.0            307.0          21.0   \n",
              "1              15.7   6.2700       2.0            348.0          14.7   \n",
              "2             100.0   1.3325      24.0            666.0          20.2   \n",
              "3              34.5   5.9853       5.0            224.0          20.2   \n",
              "4              88.4   2.5671      24.0            666.0          20.2   \n",
              "\n",
              "   BlackP/town  LS of pop  Target  \n",
              "0       396.90      18.72    15.2  \n",
              "1       395.38       3.11    42.3  \n",
              "2       375.52       3.26    50.0  \n",
              "3       396.90       8.01    21.1  \n",
              "4       391.43      14.65    17.7  "
            ]
          },
          "metadata": {
            "tags": []
          },
          "execution_count": 14
        }
      ]
    },
    {
      "cell_type": "code",
      "metadata": {
        "id": "aS0jBg5ynxxB"
      },
      "source": [
        "test_df = pd.DataFrame(testSet,columns=['PC_CR', 'PRLZ', 'PNRBAPT', 'CR_DV', 'NO_C/10 million','AVG.No.R/D','POOU_Perior 1940','WD_FBEC','IA to RH','tax per $10,000','P/T per town','BlackP/town','LS of pop','Target'])"
      ],
      "execution_count": null,
      "outputs": []
    },
    {
      "cell_type": "code",
      "metadata": {
        "id": "4wzxngM6n4yV",
        "colab": {
          "base_uri": "https://localhost:8080/",
          "height": 221
        },
        "outputId": "3949b623-61b2-46f8-d18f-18b9439ece8d"
      },
      "source": [
        "test_df.head()"
      ],
      "execution_count": null,
      "outputs": [
        {
          "output_type": "execute_result",
          "data": {
            "text/html": [
              "<div>\n",
              "<style scoped>\n",
              "    .dataframe tbody tr th:only-of-type {\n",
              "        vertical-align: middle;\n",
              "    }\n",
              "\n",
              "    .dataframe tbody tr th {\n",
              "        vertical-align: top;\n",
              "    }\n",
              "\n",
              "    .dataframe thead th {\n",
              "        text-align: right;\n",
              "    }\n",
              "</style>\n",
              "<table border=\"1\" class=\"dataframe\">\n",
              "  <thead>\n",
              "    <tr style=\"text-align: right;\">\n",
              "      <th></th>\n",
              "      <th>PC_CR</th>\n",
              "      <th>PRLZ</th>\n",
              "      <th>PNRBAPT</th>\n",
              "      <th>CR_DV</th>\n",
              "      <th>NO_C/10 million</th>\n",
              "      <th>AVG.No.R/D</th>\n",
              "      <th>POOU_Perior 1940</th>\n",
              "      <th>WD_FBEC</th>\n",
              "      <th>IA to RH</th>\n",
              "      <th>tax per $10,000</th>\n",
              "      <th>P/T per town</th>\n",
              "      <th>BlackP/town</th>\n",
              "      <th>LS of pop</th>\n",
              "      <th>Target</th>\n",
              "    </tr>\n",
              "  </thead>\n",
              "  <tbody>\n",
              "    <tr>\n",
              "      <th>0</th>\n",
              "      <td>18.08460</td>\n",
              "      <td>0.0</td>\n",
              "      <td>18.10</td>\n",
              "      <td>0.0</td>\n",
              "      <td>0.679</td>\n",
              "      <td>6.434</td>\n",
              "      <td>100.0</td>\n",
              "      <td>1.8347</td>\n",
              "      <td>24.0</td>\n",
              "      <td>666.0</td>\n",
              "      <td>20.2</td>\n",
              "      <td>27.25</td>\n",
              "      <td>29.05</td>\n",
              "      <td>7.2</td>\n",
              "    </tr>\n",
              "    <tr>\n",
              "      <th>1</th>\n",
              "      <td>0.12329</td>\n",
              "      <td>0.0</td>\n",
              "      <td>10.01</td>\n",
              "      <td>0.0</td>\n",
              "      <td>0.547</td>\n",
              "      <td>5.913</td>\n",
              "      <td>92.9</td>\n",
              "      <td>2.3534</td>\n",
              "      <td>6.0</td>\n",
              "      <td>432.0</td>\n",
              "      <td>17.8</td>\n",
              "      <td>394.95</td>\n",
              "      <td>16.21</td>\n",
              "      <td>18.8</td>\n",
              "    </tr>\n",
              "    <tr>\n",
              "      <th>2</th>\n",
              "      <td>0.05497</td>\n",
              "      <td>0.0</td>\n",
              "      <td>5.19</td>\n",
              "      <td>0.0</td>\n",
              "      <td>0.515</td>\n",
              "      <td>5.985</td>\n",
              "      <td>45.4</td>\n",
              "      <td>4.8122</td>\n",
              "      <td>5.0</td>\n",
              "      <td>224.0</td>\n",
              "      <td>20.2</td>\n",
              "      <td>396.90</td>\n",
              "      <td>9.74</td>\n",
              "      <td>19.0</td>\n",
              "    </tr>\n",
              "    <tr>\n",
              "      <th>3</th>\n",
              "      <td>1.27346</td>\n",
              "      <td>0.0</td>\n",
              "      <td>19.58</td>\n",
              "      <td>1.0</td>\n",
              "      <td>0.605</td>\n",
              "      <td>6.250</td>\n",
              "      <td>92.6</td>\n",
              "      <td>1.7984</td>\n",
              "      <td>5.0</td>\n",
              "      <td>403.0</td>\n",
              "      <td>14.7</td>\n",
              "      <td>338.92</td>\n",
              "      <td>5.50</td>\n",
              "      <td>27.0</td>\n",
              "    </tr>\n",
              "    <tr>\n",
              "      <th>4</th>\n",
              "      <td>0.07151</td>\n",
              "      <td>0.0</td>\n",
              "      <td>4.49</td>\n",
              "      <td>0.0</td>\n",
              "      <td>0.449</td>\n",
              "      <td>6.121</td>\n",
              "      <td>56.8</td>\n",
              "      <td>3.7476</td>\n",
              "      <td>3.0</td>\n",
              "      <td>247.0</td>\n",
              "      <td>18.5</td>\n",
              "      <td>395.15</td>\n",
              "      <td>8.44</td>\n",
              "      <td>22.2</td>\n",
              "    </tr>\n",
              "  </tbody>\n",
              "</table>\n",
              "</div>"
            ],
            "text/plain": [
              "      PC_CR  PRLZ  PNRBAPT  CR_DV  NO_C/10 million  AVG.No.R/D  \\\n",
              "0  18.08460   0.0    18.10    0.0            0.679       6.434   \n",
              "1   0.12329   0.0    10.01    0.0            0.547       5.913   \n",
              "2   0.05497   0.0     5.19    0.0            0.515       5.985   \n",
              "3   1.27346   0.0    19.58    1.0            0.605       6.250   \n",
              "4   0.07151   0.0     4.49    0.0            0.449       6.121   \n",
              "\n",
              "   POOU_Perior 1940  WD_FBEC  IA to RH  tax per $10,000  P/T per town  \\\n",
              "0             100.0   1.8347      24.0            666.0          20.2   \n",
              "1              92.9   2.3534       6.0            432.0          17.8   \n",
              "2              45.4   4.8122       5.0            224.0          20.2   \n",
              "3              92.6   1.7984       5.0            403.0          14.7   \n",
              "4              56.8   3.7476       3.0            247.0          18.5   \n",
              "\n",
              "   BlackP/town  LS of pop  Target  \n",
              "0        27.25      29.05     7.2  \n",
              "1       394.95      16.21    18.8  \n",
              "2       396.90       9.74    19.0  \n",
              "3       338.92       5.50    27.0  \n",
              "4       395.15       8.44    22.2  "
            ]
          },
          "metadata": {
            "tags": []
          },
          "execution_count": 16
        }
      ]
    },
    {
      "cell_type": "markdown",
      "metadata": {
        "id": "7-E6__R1s9V_"
      },
      "source": [
        "\n",
        "As you can see, we have 404 training samples and 102 test samples. The data comprises 13 features. The 13 features in the input data are as \n",
        "follow:\n",
        "\n",
        "1. Per capita crime rate.\n",
        "2. Proportion of residential land zoned for lots over 25,000 square feet.\n",
        "3. Proportion of non-retail business acres per town.\n",
        "4. Charles River dummy variable (= 1 if tract bounds river; 0 otherwise).\n",
        "5. Nitric oxides concentration (parts per 10 million).\n",
        "6. Average number of rooms per dwelling.\n",
        "7. Proportion of owner-occupied units built prior to 1940.\n",
        "8. Weighted distances to five Boston employment centres.\n",
        "9. Index of accessibility to radial highways.\n",
        "10. Full-value property-tax rate per $10,000.\n",
        "11. Pupil-teacher ratio by town.\n",
        "12. 1000 * (Bk - 0.63) ** 2 where Bk is the proportion of Black people by town.\n",
        "13. % lower status of the population.\n",
        "\n",
        "The targets are the median values of owner-occupied homes, in thousands of dollars:"
      ]
    },
    {
      "cell_type": "markdown",
      "metadata": {
        "id": "rx-COaSjs9WF"
      },
      "source": [
        "\n",
        "The prices are typically between \\$10,000 and \\$50,000. If that sounds cheap, remember this was the mid-1970s, and these prices are not \n",
        "inflation-adjusted."
      ]
    },
    {
      "cell_type": "markdown",
      "metadata": {
        "id": "ECGeSh9ds9WG"
      },
      "source": [
        "#<font color='red'>Question 1</font>\n",
        "## Preparing the data\n",
        "\n",
        "\n",
        "It would be problematic to feed into a neural network values that all take wildly different ranges. The network might be able to \n",
        "automatically adapt to such heterogeneous data, but it would definitely make learning more difficult. A widespread best practice to deal \n",
        "with such data is to do feature-wise normalization: for each feature in the input data (a column in the input data matrix), we \n",
        "will subtract the mean of the feature and divide by the standard deviation, so that the feature will be centered around 0 and will have a \n",
        "unit standard deviation. This is easily done in Numpy:"
      ]
    },
    {
      "cell_type": "code",
      "metadata": {
        "id": "WW7Rl9I0okB-"
      },
      "source": [
        "trainPrices = train_df['Target']\n",
        "trainFeatures = train_df.drop('Target', axis = 1)\n",
        "\n",
        "testPrices = test_df['Target']\n",
        "testFeatures = test_df.drop('Target', axis = 1)"
      ],
      "execution_count": null,
      "outputs": []
    },
    {
      "cell_type": "code",
      "metadata": {
        "id": "C9YLbjqYujIY"
      },
      "source": [
        "mean=trainFeatures.mean()\n",
        "trainFeatures-=mean\n",
        "std=trainFeatures.std()\n",
        "trainFeatures/=std\n",
        "\n",
        "testFeatures-=mean\n",
        "testFeatures/=std"
      ],
      "execution_count": null,
      "outputs": []
    },
    {
      "cell_type": "code",
      "metadata": {
        "id": "9Vxbrw916fDR",
        "colab": {
          "base_uri": "https://localhost:8080/",
          "height": 221
        },
        "outputId": "1a94c92e-c592-470a-d4b8-9a9e9cb2b5f9"
      },
      "source": [
        "trainFeatures.head()"
      ],
      "execution_count": null,
      "outputs": [
        {
          "output_type": "execute_result",
          "data": {
            "text/html": [
              "<div>\n",
              "<style scoped>\n",
              "    .dataframe tbody tr th:only-of-type {\n",
              "        vertical-align: middle;\n",
              "    }\n",
              "\n",
              "    .dataframe tbody tr th {\n",
              "        vertical-align: top;\n",
              "    }\n",
              "\n",
              "    .dataframe thead th {\n",
              "        text-align: right;\n",
              "    }\n",
              "</style>\n",
              "<table border=\"1\" class=\"dataframe\">\n",
              "  <thead>\n",
              "    <tr style=\"text-align: right;\">\n",
              "      <th></th>\n",
              "      <th>PC_CR</th>\n",
              "      <th>PRLZ</th>\n",
              "      <th>PNRBAPT</th>\n",
              "      <th>CR_DV</th>\n",
              "      <th>NO_C/10 million</th>\n",
              "      <th>AVG.No.R/D</th>\n",
              "      <th>POOU_Perior 1940</th>\n",
              "      <th>WD_FBEC</th>\n",
              "      <th>IA to RH</th>\n",
              "      <th>tax per $10,000</th>\n",
              "      <th>P/T per town</th>\n",
              "      <th>BlackP/town</th>\n",
              "      <th>LS of pop</th>\n",
              "    </tr>\n",
              "  </thead>\n",
              "  <tbody>\n",
              "    <tr>\n",
              "      <th>0</th>\n",
              "      <td>-0.271909</td>\n",
              "      <td>-0.483017</td>\n",
              "      <td>-0.435222</td>\n",
              "      <td>-0.256515</td>\n",
              "      <td>-0.165022</td>\n",
              "      <td>-0.176224</td>\n",
              "      <td>0.812055</td>\n",
              "      <td>0.116554</td>\n",
              "      <td>-0.625474</td>\n",
              "      <td>-0.594433</td>\n",
              "      <td>1.147078</td>\n",
              "      <td>0.447522</td>\n",
              "      <td>0.824198</td>\n",
              "    </tr>\n",
              "    <tr>\n",
              "      <th>1</th>\n",
              "      <td>-0.402927</td>\n",
              "      <td>2.988079</td>\n",
              "      <td>-1.332260</td>\n",
              "      <td>-0.256515</td>\n",
              "      <td>-1.213677</td>\n",
              "      <td>1.892000</td>\n",
              "      <td>-1.907995</td>\n",
              "      <td>1.246040</td>\n",
              "      <td>-0.855402</td>\n",
              "      <td>-0.348001</td>\n",
              "      <td>-1.716061</td>\n",
              "      <td>0.431371</td>\n",
              "      <td>-1.327556</td>\n",
              "    </tr>\n",
              "    <tr>\n",
              "      <th>2</th>\n",
              "      <td>0.124785</td>\n",
              "      <td>-0.483017</td>\n",
              "      <td>1.027052</td>\n",
              "      <td>-0.256515</td>\n",
              "      <td>0.627864</td>\n",
              "      <td>-1.827422</td>\n",
              "      <td>1.109113</td>\n",
              "      <td>-1.185969</td>\n",
              "      <td>1.673810</td>\n",
              "      <td>1.563349</td>\n",
              "      <td>0.783505</td>\n",
              "      <td>0.220344</td>\n",
              "      <td>-1.306880</td>\n",
              "    </tr>\n",
              "    <tr>\n",
              "      <th>3</th>\n",
              "      <td>-0.400996</td>\n",
              "      <td>-0.483017</td>\n",
              "      <td>-0.868325</td>\n",
              "      <td>-0.256515</td>\n",
              "      <td>-0.361112</td>\n",
              "      <td>-0.324156</td>\n",
              "      <td>-1.235140</td>\n",
              "      <td>1.105809</td>\n",
              "      <td>-0.510509</td>\n",
              "      <td>-1.093307</td>\n",
              "      <td>0.783505</td>\n",
              "      <td>0.447522</td>\n",
              "      <td>-0.652118</td>\n",
              "    </tr>\n",
              "    <tr>\n",
              "      <th>4</th>\n",
              "      <td>-0.005627</td>\n",
              "      <td>-0.483017</td>\n",
              "      <td>1.027052</td>\n",
              "      <td>-0.256515</td>\n",
              "      <td>1.326967</td>\n",
              "      <td>0.153452</td>\n",
              "      <td>0.693948</td>\n",
              "      <td>-0.577856</td>\n",
              "      <td>1.673810</td>\n",
              "      <td>1.563349</td>\n",
              "      <td>0.783505</td>\n",
              "      <td>0.389399</td>\n",
              "      <td>0.263171</td>\n",
              "    </tr>\n",
              "  </tbody>\n",
              "</table>\n",
              "</div>"
            ],
            "text/plain": [
              "      PC_CR      PRLZ   PNRBAPT     CR_DV  NO_C/10 million  AVG.No.R/D  \\\n",
              "0 -0.271909 -0.483017 -0.435222 -0.256515        -0.165022   -0.176224   \n",
              "1 -0.402927  2.988079 -1.332260 -0.256515        -1.213677    1.892000   \n",
              "2  0.124785 -0.483017  1.027052 -0.256515         0.627864   -1.827422   \n",
              "3 -0.400996 -0.483017 -0.868325 -0.256515        -0.361112   -0.324156   \n",
              "4 -0.005627 -0.483017  1.027052 -0.256515         1.326967    0.153452   \n",
              "\n",
              "   POOU_Perior 1940   WD_FBEC  IA to RH  tax per $10,000  P/T per town  \\\n",
              "0          0.812055  0.116554 -0.625474        -0.594433      1.147078   \n",
              "1         -1.907995  1.246040 -0.855402        -0.348001     -1.716061   \n",
              "2          1.109113 -1.185969  1.673810         1.563349      0.783505   \n",
              "3         -1.235140  1.105809 -0.510509        -1.093307      0.783505   \n",
              "4          0.693948 -0.577856  1.673810         1.563349      0.783505   \n",
              "\n",
              "   BlackP/town  LS of pop  \n",
              "0     0.447522   0.824198  \n",
              "1     0.431371  -1.327556  \n",
              "2     0.220344  -1.306880  \n",
              "3     0.447522  -0.652118  \n",
              "4     0.389399   0.263171  "
            ]
          },
          "metadata": {
            "tags": []
          },
          "execution_count": 19
        }
      ]
    },
    {
      "cell_type": "markdown",
      "metadata": {
        "id": "z9lo31tOs9WM"
      },
      "source": [
        "\n",
        "Note that the quantities that we use for normalizing the test data have been computed using the training data. We should never use in our \n",
        "workflow any quantity computed on the test data, even for something as simple as data normalization."
      ]
    },
    {
      "cell_type": "markdown",
      "metadata": {
        "id": "8nFXgsgss9WN"
      },
      "source": [
        "#<font color='red'>Question 2</font>\n",
        "## Building our network\n",
        "\n",
        "\n",
        "Because so few samples are available, we will be using a very small network with two \n",
        "hidden layers, each with 64 units. In general, the less training data you have, the worse overfitting will be, and using \n",
        "a small network is one way to mitigate overfitting."
      ]
    },
    {
      "cell_type": "code",
      "metadata": {
        "id": "UdRrbPIls9WP"
      },
      "source": [
        "from keras import models\n",
        "from keras import layers\n",
        "from keras import optimizers\n",
        "from keras import metrics\n",
        "\n",
        "def build_model():\n",
        "    # Because we will need to instantiate\n",
        "    # the same model multiple times,\n",
        "    # we use a function to construct it.\n",
        "    \n",
        "    ...\n",
        "    \n",
        "    adam=keras.optimizers.Adam(lr=0.001, beta_1=0.9, beta_2=0.999, epsilon=None, decay=0.0, amsgrad=False)\n",
        "    model = models.Sequential()\n",
        "    model.add(layers.Dense(64, activation=\"tanh\", input_shape=(13,)))\n",
        "    model.add(layers.Dense(64, activation=\"relu\"))\n",
        "    model.add(layers.Dense(1))\n",
        "    print(model.summary())\n",
        "    model.compile(loss='mean_squared_error',\n",
        "        optimizer=adam,\n",
        "        metrics=[metrics.mae])\n",
        "    return model"
      ],
      "execution_count": null,
      "outputs": []
    },
    {
      "cell_type": "markdown",
      "metadata": {
        "id": "Nzy6KqLZs9WU"
      },
      "source": [
        "\n",
        "Our network ends with a single unit, and no activation (i.e. it will be linear layer). \n",
        "This is a typical setup for scalar regression (i.e. regression where we are trying to predict a single continuous value). \n",
        "Applying an activation function would constrain the range that the output can take; for instance if \n",
        "we applied a `sigmoid` activation function to our last layer, the network could only learn to predict values between 0 and 1. Here, because \n",
        "the last layer is purely linear, the network is free to learn to predict values in any range.\n",
        "\n",
        "Note that we are compiling the network with the `mse` loss function -- Mean Squared Error, the square of the difference between the \n",
        "predictions and the targets, a widely used loss function for regression problems.\n",
        "\n",
        "We are also monitoring a new metric during training: `mae`. This stands for Mean Absolute Error. It is simply the absolute value of the \n",
        "difference between the predictions and the targets. For instance, a MAE of 0.5 on this problem would mean that our predictions are off by \n",
        "\\$500 on average."
      ]
    },
    {
      "cell_type": "markdown",
      "metadata": {
        "id": "opdGUCZws9WU"
      },
      "source": [
        "#<font color='red'>Study Well!</font>\n",
        "## Validating our approach using K-fold validation\n",
        "\n",
        "\n",
        "To evaluate our network while we keep adjusting its parameters (such as the number of epochs used for training), we could simply split the \n",
        "data into a training set and a validation set, as we were doing in our previous examples. However, because we have so few data points, the \n",
        "validation set would end up being very small (e.g. about 100 examples). A consequence is that our validation scores may change a lot \n",
        "depending on _which_ data points we choose to use for validation and which we choose for training, i.e. the validation scores may have a \n",
        "high _variance_ with regard to the validation split. This would prevent us from reliably evaluating our model.\n",
        "\n",
        "The best practice in such situations is to use K-fold cross-validation. It consists of splitting the available data into K partitions \n",
        "(typically K=4 or 5), then instantiating K identical models, and training each one on K-1 partitions while evaluating on the remaining \n",
        "partition. The validation score for the model used would then be the average of the K validation scores obtained."
      ]
    },
    {
      "cell_type": "markdown",
      "metadata": {
        "id": "4wyGwNcTs9WV"
      },
      "source": [
        "In terms of code, this is straightforward:"
      ]
    },
    {
      "cell_type": "code",
      "metadata": {
        "id": "7icFK2DJs9WW",
        "colab": {
          "base_uri": "https://localhost:8080/",
          "height": 1159
        },
        "outputId": "2bb72ada-1020-4ef1-bf3a-c4abb65cf5ad"
      },
      "source": [
        "import numpy as np\n",
        "\n",
        "k = 4\n",
        "num_val_samples = len(trainFeatures) // k\n",
        "num_epochs = 100\n",
        "all_scores = []\n",
        "for i in range(k):\n",
        "    print('processing fold #', i)\n",
        "    # Prepare the validation data: data from partition # k\n",
        "    valFeatures = trainFeatures[i * num_val_samples: (i + 1) * num_val_samples]\n",
        "    valPrices = trainPrices[i * num_val_samples: (i + 1) * num_val_samples]\n",
        "\n",
        "    # Prepare the training data: data from all other partitions\n",
        "    partial_train_data = np.concatenate(\n",
        "        [trainFeatures[:i * num_val_samples],\n",
        "         trainFeatures[(i + 1) * num_val_samples:]],\n",
        "        axis=0)\n",
        "    partial_train_targets = np.concatenate(\n",
        "        [trainPrices[:i * num_val_samples],\n",
        "         trainPrices[(i + 1) * num_val_samples:]],\n",
        "        axis=0)\n",
        "\n",
        "    # Build the Keras model (already compiled)\n",
        "    model = build_model()\n",
        "    # Train the model (in silent mode, verbose=0)\n",
        "    model.fit(partial_train_data, partial_train_targets,\n",
        "              epochs=num_epochs, batch_size=1, verbose=0)\n",
        "    # Evaluate the model on the validation data\n",
        "    val_mse, val_mae = model.evaluate(valFeatures, valPrices, verbose=0)\n",
        "    all_scores.append(val_mae)"
      ],
      "execution_count": null,
      "outputs": [
        {
          "output_type": "stream",
          "text": [
            "processing fold # 0\n",
            "WARNING:tensorflow:From /usr/local/lib/python3.6/dist-packages/tensorflow/python/framework/op_def_library.py:263: colocate_with (from tensorflow.python.framework.ops) is deprecated and will be removed in a future version.\n",
            "Instructions for updating:\n",
            "Colocations handled automatically by placer.\n",
            "_________________________________________________________________\n",
            "Layer (type)                 Output Shape              Param #   \n",
            "=================================================================\n",
            "dense_1 (Dense)              (None, 64)                896       \n",
            "_________________________________________________________________\n",
            "dense_2 (Dense)              (None, 64)                4160      \n",
            "_________________________________________________________________\n",
            "dense_3 (Dense)              (None, 1)                 65        \n",
            "=================================================================\n",
            "Total params: 5,121\n",
            "Trainable params: 5,121\n",
            "Non-trainable params: 0\n",
            "_________________________________________________________________\n",
            "None\n",
            "WARNING:tensorflow:From /usr/local/lib/python3.6/dist-packages/tensorflow/python/ops/math_ops.py:3066: to_int32 (from tensorflow.python.ops.math_ops) is deprecated and will be removed in a future version.\n",
            "Instructions for updating:\n",
            "Use tf.cast instead.\n",
            "processing fold # 1\n",
            "_________________________________________________________________\n",
            "Layer (type)                 Output Shape              Param #   \n",
            "=================================================================\n",
            "dense_4 (Dense)              (None, 64)                896       \n",
            "_________________________________________________________________\n",
            "dense_5 (Dense)              (None, 64)                4160      \n",
            "_________________________________________________________________\n",
            "dense_6 (Dense)              (None, 1)                 65        \n",
            "=================================================================\n",
            "Total params: 5,121\n",
            "Trainable params: 5,121\n",
            "Non-trainable params: 0\n",
            "_________________________________________________________________\n",
            "None\n",
            "processing fold # 2\n",
            "_________________________________________________________________\n",
            "Layer (type)                 Output Shape              Param #   \n",
            "=================================================================\n",
            "dense_7 (Dense)              (None, 64)                896       \n",
            "_________________________________________________________________\n",
            "dense_8 (Dense)              (None, 64)                4160      \n",
            "_________________________________________________________________\n",
            "dense_9 (Dense)              (None, 1)                 65        \n",
            "=================================================================\n",
            "Total params: 5,121\n",
            "Trainable params: 5,121\n",
            "Non-trainable params: 0\n",
            "_________________________________________________________________\n",
            "None\n",
            "processing fold # 3\n",
            "_________________________________________________________________\n",
            "Layer (type)                 Output Shape              Param #   \n",
            "=================================================================\n",
            "dense_10 (Dense)             (None, 64)                896       \n",
            "_________________________________________________________________\n",
            "dense_11 (Dense)             (None, 64)                4160      \n",
            "_________________________________________________________________\n",
            "dense_12 (Dense)             (None, 1)                 65        \n",
            "=================================================================\n",
            "Total params: 5,121\n",
            "Trainable params: 5,121\n",
            "Non-trainable params: 0\n",
            "_________________________________________________________________\n",
            "None\n"
          ],
          "name": "stdout"
        }
      ]
    },
    {
      "cell_type": "code",
      "metadata": {
        "id": "9VxYA51jI-sW",
        "colab": {
          "base_uri": "https://localhost:8080/",
          "height": 34
        },
        "outputId": "f36a7154-7e15-4233-b5fc-8ac2bd5c60ba"
      },
      "source": [
        "all_scores"
      ],
      "execution_count": null,
      "outputs": [
        {
          "output_type": "execute_result",
          "data": {
            "text/plain": [
              "[2.036446387224858, 2.599139407129571, 2.24444570163689, 2.1648409838723666]"
            ]
          },
          "metadata": {
            "tags": []
          },
          "execution_count": 22
        }
      ]
    },
    {
      "cell_type": "code",
      "metadata": {
        "id": "BVxJjn7Ts9Wc",
        "colab": {
          "base_uri": "https://localhost:8080/",
          "height": 34
        },
        "outputId": "035d8dae-72c8-4921-fbab-fdf5052254c1"
      },
      "source": [
        "np.mean(all_scores)"
      ],
      "execution_count": null,
      "outputs": [
        {
          "output_type": "execute_result",
          "data": {
            "text/plain": [
              "2.2612181199659216"
            ]
          },
          "metadata": {
            "tags": []
          },
          "execution_count": 23
        }
      ]
    },
    {
      "cell_type": "markdown",
      "metadata": {
        "id": "jWz9K07ys9Wf"
      },
      "source": [
        "\n",
        "As you can notice, the different runs do indeed show rather different validation scores, from 2.1 to 2.9. Their average (2.4) is a much more \n",
        "reliable metric than any single of these scores -- that's the entire point of K-fold cross-validation. In this case, we are off by \\$2,400 on \n",
        "average, which is still significant considering that the prices range from \\$10,000 to \\$50,000. \n",
        "\n",
        "Let's try training the network for a bit longer: 500 epochs. To keep a record of how well the model did at each epoch, we will modify our training loop \n",
        "to save the per-epoch validation score log:"
      ]
    },
    {
      "cell_type": "code",
      "metadata": {
        "id": "bIy6lfJhs9Wg"
      },
      "source": [
        "from keras import backend as K\n",
        "\n",
        "# Some memory clean-up\n",
        "K.clear_session()"
      ],
      "execution_count": null,
      "outputs": []
    },
    {
      "cell_type": "code",
      "metadata": {
        "id": "lvYJYBe8s9Wi",
        "colab": {
          "base_uri": "https://localhost:8080/",
          "height": 1037
        },
        "outputId": "45593574-fd39-4314-ad89-fe0cfe284e31"
      },
      "source": [
        "num_epochs = 500\n",
        "all_mae_histories = []\n",
        "for i in range(k):\n",
        "    print('processing fold #', i)\n",
        "    # Prepare the validation data: data from partition # k\n",
        "    valFeatures = trainFeatures[i * num_val_samples: (i + 1) * num_val_samples]\n",
        "    valPrices = trainPrices[i * num_val_samples: (i + 1) * num_val_samples]\n",
        "\n",
        "    # Prepare the training data: data from all other partitions\n",
        "    partial_train_data = np.concatenate(\n",
        "        [trainFeatures[:i * num_val_samples],\n",
        "         trainFeatures[(i + 1) * num_val_samples:]],\n",
        "        axis=0)\n",
        "    partial_train_targets = np.concatenate(\n",
        "        [trainPrices[:i * num_val_samples],\n",
        "         trainPrices[(i + 1) * num_val_samples:]],\n",
        "        axis=0)\n",
        "\n",
        "    # Build the Keras model (already compiled)\n",
        "    model = build_model()\n",
        "    # Train the model (in silent mode, verbose=0)\n",
        "    history = model.fit(partial_train_data, partial_train_targets,\n",
        "                        validation_data=(valFeatures, valPrices),\n",
        "                        epochs=num_epochs, batch_size=1, verbose=0)\n",
        "    mae_history = history.history['val_mean_absolute_error']\n",
        "    all_mae_histories.append(mae_history)"
      ],
      "execution_count": null,
      "outputs": [
        {
          "output_type": "stream",
          "text": [
            "processing fold # 0\n",
            "_________________________________________________________________\n",
            "Layer (type)                 Output Shape              Param #   \n",
            "=================================================================\n",
            "dense_1 (Dense)              (None, 64)                896       \n",
            "_________________________________________________________________\n",
            "dense_2 (Dense)              (None, 64)                4160      \n",
            "_________________________________________________________________\n",
            "dense_3 (Dense)              (None, 1)                 65        \n",
            "=================================================================\n",
            "Total params: 5,121\n",
            "Trainable params: 5,121\n",
            "Non-trainable params: 0\n",
            "_________________________________________________________________\n",
            "None\n",
            "processing fold # 1\n",
            "_________________________________________________________________\n",
            "Layer (type)                 Output Shape              Param #   \n",
            "=================================================================\n",
            "dense_4 (Dense)              (None, 64)                896       \n",
            "_________________________________________________________________\n",
            "dense_5 (Dense)              (None, 64)                4160      \n",
            "_________________________________________________________________\n",
            "dense_6 (Dense)              (None, 1)                 65        \n",
            "=================================================================\n",
            "Total params: 5,121\n",
            "Trainable params: 5,121\n",
            "Non-trainable params: 0\n",
            "_________________________________________________________________\n",
            "None\n",
            "processing fold # 2\n",
            "_________________________________________________________________\n",
            "Layer (type)                 Output Shape              Param #   \n",
            "=================================================================\n",
            "dense_7 (Dense)              (None, 64)                896       \n",
            "_________________________________________________________________\n",
            "dense_8 (Dense)              (None, 64)                4160      \n",
            "_________________________________________________________________\n",
            "dense_9 (Dense)              (None, 1)                 65        \n",
            "=================================================================\n",
            "Total params: 5,121\n",
            "Trainable params: 5,121\n",
            "Non-trainable params: 0\n",
            "_________________________________________________________________\n",
            "None\n",
            "processing fold # 3\n",
            "_________________________________________________________________\n",
            "Layer (type)                 Output Shape              Param #   \n",
            "=================================================================\n",
            "dense_10 (Dense)             (None, 64)                896       \n",
            "_________________________________________________________________\n",
            "dense_11 (Dense)             (None, 64)                4160      \n",
            "_________________________________________________________________\n",
            "dense_12 (Dense)             (None, 1)                 65        \n",
            "=================================================================\n",
            "Total params: 5,121\n",
            "Trainable params: 5,121\n",
            "Non-trainable params: 0\n",
            "_________________________________________________________________\n",
            "None\n"
          ],
          "name": "stdout"
        }
      ]
    },
    {
      "cell_type": "markdown",
      "metadata": {
        "id": "Wxj_zlqPs9Wq"
      },
      "source": [
        "We can then compute the average of the per-epoch MAE scores for all folds:"
      ]
    },
    {
      "cell_type": "code",
      "metadata": {
        "id": "qx0noMwQs9Ws"
      },
      "source": [
        "average_mae_history = [\n",
        "    np.mean([x[i] for x in all_mae_histories]) for i in range(num_epochs)]"
      ],
      "execution_count": null,
      "outputs": []
    },
    {
      "cell_type": "markdown",
      "metadata": {
        "id": "Q1bFZdeFs9Wx"
      },
      "source": [
        "Let's plot this:"
      ]
    },
    {
      "cell_type": "code",
      "metadata": {
        "id": "sA_fWOTcs9W1",
        "colab": {
          "base_uri": "https://localhost:8080/",
          "height": 361
        },
        "outputId": "8136d317-223c-4c34-8a04-d9de169ffefd"
      },
      "source": [
        "import matplotlib.pyplot as plt\n",
        "\n",
        "plt.plot(range(1, len(average_mae_history) + 1), average_mae_history)\n",
        "plt.xlabel('Epochs')\n",
        "plt.ylabel('Validation MAE')\n",
        "plt.show()"
      ],
      "execution_count": null,
      "outputs": [
        {
          "output_type": "display_data",
          "data": {
            "image/png": "[encoded data removed]",
            "text/plain": [
              "<Figure size 576x396 with 1 Axes>"
            ]
          },
          "metadata": {
            "tags": []
          }
        }
      ]
    },
    {
      "cell_type": "markdown",
      "metadata": {
        "id": "m5K99ONRs9W4"
      },
      "source": [
        "\n",
        "It may be a bit hard to see the plot due to scaling issues and relatively high variance. Let's:\n",
        "\n",
        "* Omit the first 10 data points, which are on a different scale from the rest of the curve.\n",
        "* Replace each point with an exponential moving average of the previous points, to obtain a smooth curve."
      ]
    },
    {
      "cell_type": "code",
      "metadata": {
        "id": "twrTgvgjs9W5",
        "colab": {
          "base_uri": "https://localhost:8080/",
          "height": 361
        },
        "outputId": "2d55c99e-c356-4a74-f0a3-e90cb278337e"
      },
      "source": [
        "def smooth_curve(points, factor=0.9):\n",
        "  smoothed_points = []\n",
        "  for point in points:\n",
        "    if smoothed_points:\n",
        "      previous = smoothed_points[-1]\n",
        "      smoothed_points.append(previous * factor + point * (1 - factor))\n",
        "    else:\n",
        "      smoothed_points.append(point)\n",
        "  return smoothed_points\n",
        "\n",
        "smooth_mae_history = smooth_curve(average_mae_history[10:])\n",
        "\n",
        "plt.plot(range(1, len(smooth_mae_history) + 1), smooth_mae_history)\n",
        "plt.xlabel('Epochs')\n",
        "plt.ylabel('Validation MAE')\n",
        "plt.show()"
      ],
      "execution_count": null,
      "outputs": [
        {
          "output_type": "display_data",
          "data": {
            "image/png": "[encoded data removed]",
            "text/plain": [
              "<Figure size 576x396 with 1 Axes>"
            ]
          },
          "metadata": {
            "tags": []
          }
        }
      ]
    },
    {
      "cell_type": "markdown",
      "metadata": {
        "id": "5_Ux10C2s9W8"
      },
      "source": [
        "\n",
        "According to this plot, it seems that validation MAE stops improving significantly after 80 epochs. Past that point, we start overfitting.\n",
        "\n",
        "Once we are done tuning other parameters of our model (besides the number of epochs, we could also adjust the size of the hidden layers), we \n",
        "can train a final \"production\" model on all of the training data, with the best parameters, then look at its performance on the test data:"
      ]
    },
    {
      "cell_type": "code",
      "metadata": {
        "id": "X2vG0lEVs9W9",
        "colab": {
          "base_uri": "https://localhost:8080/",
          "height": 272
        },
        "outputId": "126ed0c9-4a8b-429c-f52d-2f5004ef41b2"
      },
      "source": [
        "# Get a fresh, compiled model.\n",
        "model = build_model()\n",
        "# Train it on the entirety of the data.\n",
        "model.fit(trainFeatures, trainPrices,\n",
        "          epochs=80, batch_size=16, verbose=0)\n",
        "test_mse_score, test_mae_score = model.evaluate(testFeatures, testPrices)"
      ],
      "execution_count": null,
      "outputs": [
        {
          "output_type": "stream",
          "text": [
            "_________________________________________________________________\n",
            "Layer (type)                 Output Shape              Param #   \n",
            "=================================================================\n",
            "dense_13 (Dense)             (None, 64)                896       \n",
            "_________________________________________________________________\n",
            "dense_14 (Dense)             (None, 64)                4160      \n",
            "_________________________________________________________________\n",
            "dense_15 (Dense)             (None, 1)                 65        \n",
            "=================================================================\n",
            "Total params: 5,121\n",
            "Trainable params: 5,121\n",
            "Non-trainable params: 0\n",
            "_________________________________________________________________\n",
            "None\n",
            "102/102 [==============================] - 0s 1ms/step\n"
          ],
          "name": "stdout"
        }
      ]
    },
    {
      "cell_type": "code",
      "metadata": {
        "id": "N3hCLmJVs9XA",
        "colab": {
          "base_uri": "https://localhost:8080/",
          "height": 34
        },
        "outputId": "a092362a-46c4-4bdf-f9e2-2d0bab813f99"
      },
      "source": [
        "test_mae_score"
      ],
      "execution_count": null,
      "outputs": [
        {
          "output_type": "execute_result",
          "data": {
            "text/plain": [
              "2.6714593195447733"
            ]
          },
          "metadata": {
            "tags": []
          },
          "execution_count": 30
        }
      ]
    },
    {
      "cell_type": "markdown",
      "metadata": {
        "id": "jx3AnGixs9XC"
      },
      "source": [
        "We are still off by about \\$2,550."
      ]
    },
    {
      "cell_type": "markdown",
      "metadata": {
        "id": "NN61h09ks9XE"
      },
      "source": [
        "## Wrapping up\n",
        "\n",
        "\n",
        "Here's what you should take away from this example:\n",
        "\n",
        "* Regression is done using different loss functions from classification; Mean Squared Error (MSE) is a commonly used loss function for \n",
        "regression.\n",
        "* Similarly, evaluation metrics to be used for regression differ from those used for classification; naturally the concept of \"accuracy\" \n",
        "does not apply for regression. A common regression metric is Mean Absolute Error (MAE).\n",
        "* When features in the input data have values in different ranges, each feature should be scaled independently as a preprocessing step.\n",
        "* When there is little data available, using K-Fold validation is a great way to reliably evaluate a model.\n",
        "* When little training data is available, it is preferable to use a small network with very few hidden layers (typically only one or two), \n",
        "in order to avoid severe overfitting.\n",
        "\n",
        "This example concludes our series of three introductory practical examples. You are now able to handle common types of problems with vector data input:\n",
        "\n",
        "* Binary (2-class) classification.\n",
        "* Multi-class, single-label classification.\n",
        "* Scalar regression.\n",
        "\n",
        "In the next chapter, you will acquire a more formal understanding of some of the concepts you have encountered in these first examples, \n",
        "such as data preprocessing, model evaluation, and overfitting."
      ]
    },
    {
      "cell_type": "code",
      "metadata": {
        "id": "_i_k8Rn6HQwV"
      },
      "source": [
        ""
      ],
      "execution_count": null,
      "outputs": []
    }
  ]
}