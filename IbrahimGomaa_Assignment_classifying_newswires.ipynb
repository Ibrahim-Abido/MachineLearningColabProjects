{
  "nbformat": 4,
  "nbformat_minor": 0,
  "metadata": {
    "colab": {
      "name": "IbrahimGomaa-Assignment-classifying-newswires.ipynb",
      "provenance": [],
      "collapsed_sections": [],
      "include_colab_link": true
    },
    "kernelspec": {
      "name": "python3",
      "display_name": "Python 3"
    },
    "accelerator": "GPU"
  },
  "cells": [
    {
      "cell_type": "markdown",
      "metadata": {
        "id": "view-in-github",
        "colab_type": "text"
      },
      "source": [
        "<a href=\"https://colab.research.google.com/github/Ibrahim-Abido/MachineLearningColabProjects/blob/ClassiffyingNewsPaper/IbrahimGomaa_Assignment_classifying_newswires.ipynb\" target=\"_parent\"><img src=\"https://colab.research.google.com/assets/colab-badge.svg\" alt=\"Open In Colab\"/></a>"
      ]
    },
    {
      "cell_type": "code",
      "metadata": {
        "id": "akO44BRyqU3e",
        "colab": {
          "base_uri": "https://localhost:8080/",
          "height": 51
        },
        "outputId": "f13cdda5-0458-41b2-897e-de5bfb67d37f"
      },
      "source": [
        "import keras\n",
        "keras.__version__"
      ],
      "execution_count": null,
      "outputs": [
        {
          "output_type": "stream",
          "text": [
            "Using TensorFlow backend.\n"
          ],
          "name": "stderr"
        },
        {
          "output_type": "execute_result",
          "data": {
            "text/plain": [
              "'2.2.4'"
            ]
          },
          "metadata": {
            "tags": []
          },
          "execution_count": 1
        }
      ]
    },
    {
      "cell_type": "markdown",
      "metadata": {
        "id": "Pp62TlEoqU3n"
      },
      "source": [
        "# Classifying newswires: a multi-class classification example\n",
        "\n",
        "This notebook contains the code samples found in Chapter 3, Section 5 of [Deep Learning with Python](https://www.manning.com/books/deep-learning-with-python?a_aid=keras&a_bid=76564dff). Note that the original text features far more content, in particular further explanations and figures: in this notebook, you will only find source code and related comments.\n",
        "\n",
        "----\n",
        "\n",
        "In the previous section we saw how to classify vector inputs into two mutually exclusive classes using a densely-connected neural network. \n",
        "But what happens when you have more than two classes? \n",
        "\n",
        "In this section, we will build a network to classify Reuters newswires into 46 different mutually-exclusive topics. Since we have many \n",
        "classes, this problem is an instance of \"multi-class classification\", and since each data point should be classified into only one \n",
        "category, the problem is more specifically an instance of \"single-label, multi-class classification\". If each data point could have \n",
        "belonged to multiple categories (in our case, topics) then we would be facing a \"multi-label, multi-class classification\" problem."
      ]
    },
    {
      "cell_type": "markdown",
      "metadata": {
        "id": "Vldd4ZLHqU3o"
      },
      "source": [
        "## The Reuters dataset\n",
        "\n",
        "\n",
        "We will be working with the _Reuters dataset_, a set of short newswires and their topics, published by Reuters in 1986. It's a very simple, \n",
        "widely used toy dataset for text classification. There are 46 different topics; some topics are more represented than others, but each \n",
        "topic has at least 10 examples in the training set.\n",
        "\n",
        "Like IMDB and MNIST, the Reuters dataset comes packaged as part of Keras. Let's take a look right away:"
      ]
    },
    {
      "cell_type": "code",
      "metadata": {
        "id": "Te_9X95IqU3p",
        "colab": {
          "base_uri": "https://localhost:8080/",
          "height": 51
        },
        "outputId": "e21299ae-f1e2-4305-e24a-e62f709b0213"
      },
      "source": [
        "from keras.datasets import reuters\n",
        "\n",
        "(train_data, train_labels), (test_data, test_labels) = reuters.load_data(num_words=10000)"
      ],
      "execution_count": null,
      "outputs": [
        {
          "output_type": "stream",
          "text": [
            "Downloading data from https://s3.amazonaws.com/text-datasets/reuters.npz\n",
            "2113536/2110848 [==============================] - 0s 0us/step\n"
          ],
          "name": "stdout"
        }
      ]
    },
    {
      "cell_type": "markdown",
      "metadata": {
        "id": "7EzjKV-WqU3u"
      },
      "source": [
        "\n",
        "Like with the IMDB dataset, the argument `num_words=10000` restricts the data to the 10,000 most frequently occurring words found in the \n",
        "data.\n",
        "\n",
        "We have 8,982 training examples and 2,246 test examples:"
      ]
    },
    {
      "cell_type": "code",
      "metadata": {
        "id": "6MPRzmseqU3w",
        "colab": {
          "base_uri": "https://localhost:8080/",
          "height": 34
        },
        "outputId": "e58d73c4-5e00-494f-c72a-14cdd22e72c3"
      },
      "source": [
        "len(train_data)"
      ],
      "execution_count": null,
      "outputs": [
        {
          "output_type": "execute_result",
          "data": {
            "text/plain": [
              "8982"
            ]
          },
          "metadata": {
            "tags": []
          },
          "execution_count": 3
        }
      ]
    },
    {
      "cell_type": "code",
      "metadata": {
        "id": "Nvt_YXv4hDrl",
        "colab": {
          "base_uri": "https://localhost:8080/",
          "height": 34
        },
        "outputId": "fe9645c5-77eb-4eb1-c1cf-a4d88a6ea97e"
      },
      "source": [
        "train_data.shape"
      ],
      "execution_count": null,
      "outputs": [
        {
          "output_type": "execute_result",
          "data": {
            "text/plain": [
              "(8982,)"
            ]
          },
          "metadata": {
            "tags": []
          },
          "execution_count": 23
        }
      ]
    },
    {
      "cell_type": "code",
      "metadata": {
        "id": "10SyvgedqU31",
        "colab": {
          "base_uri": "https://localhost:8080/",
          "height": 34
        },
        "outputId": "1aff016d-74df-4b18-d68f-9becef55a705"
      },
      "source": [
        "len(test_data)"
      ],
      "execution_count": null,
      "outputs": [
        {
          "output_type": "execute_result",
          "data": {
            "text/plain": [
              "2246"
            ]
          },
          "metadata": {
            "tags": []
          },
          "execution_count": 4
        }
      ]
    },
    {
      "cell_type": "code",
      "metadata": {
        "id": "ZtL70l1lhJFi",
        "colab": {
          "base_uri": "https://localhost:8080/",
          "height": 34
        },
        "outputId": "26a84c99-3c41-4e23-df5c-00212a95d7b2"
      },
      "source": [
        "test_data.shape"
      ],
      "execution_count": null,
      "outputs": [
        {
          "output_type": "execute_result",
          "data": {
            "text/plain": [
              "(2246,)"
            ]
          },
          "metadata": {
            "tags": []
          },
          "execution_count": 24
        }
      ]
    },
    {
      "cell_type": "markdown",
      "metadata": {
        "id": "zvVVCvUMqU36"
      },
      "source": [
        "As with the IMDB reviews, each example is a list of integers (word indices):"
      ]
    },
    {
      "cell_type": "code",
      "metadata": {
        "id": "bkUmbAp2qU38",
        "colab": {
          "base_uri": "https://localhost:8080/",
          "height": 544
        },
        "outputId": "e4afcbca-113a-46e9-f24a-6873dad28778"
      },
      "source": [
        "train_data[10]"
      ],
      "execution_count": null,
      "outputs": [
        {
          "output_type": "execute_result",
          "data": {
            "text/plain": [
              "[1,\n",
              " 245,\n",
              " 273,\n",
              " 207,\n",
              " 156,\n",
              " 53,\n",
              " 74,\n",
              " 160,\n",
              " 26,\n",
              " 14,\n",
              " 46,\n",
              " 296,\n",
              " 26,\n",
              " 39,\n",
              " 74,\n",
              " 2979,\n",
              " 3554,\n",
              " 14,\n",
              " 46,\n",
              " 4689,\n",
              " 4329,\n",
              " 86,\n",
              " 61,\n",
              " 3499,\n",
              " 4795,\n",
              " 14,\n",
              " 61,\n",
              " 451,\n",
              " 4329,\n",
              " 17,\n",
              " 12]"
            ]
          },
          "metadata": {
            "tags": []
          },
          "execution_count": 5
        }
      ]
    },
    {
      "cell_type": "code",
      "metadata": {
        "id": "-II9nr4WR-_a",
        "colab": {
          "base_uri": "https://localhost:8080/",
          "height": 34
        },
        "outputId": "f1be19b9-1a72-4c24-af23-875d6a8b4805"
      },
      "source": [
        "len(test_data[10])"
      ],
      "execution_count": null,
      "outputs": [
        {
          "output_type": "execute_result",
          "data": {
            "text/plain": [
              "79"
            ]
          },
          "metadata": {
            "tags": []
          },
          "execution_count": 26
        }
      ]
    },
    {
      "cell_type": "markdown",
      "metadata": {
        "id": "wSujxboIqU3-"
      },
      "source": [
        "Here's how you can decode it back to words, in case you are curious:"
      ]
    },
    {
      "cell_type": "code",
      "metadata": {
        "id": "8MIGPT7vqU3_",
        "colab": {
          "base_uri": "https://localhost:8080/",
          "height": 51
        },
        "outputId": "b251fe1d-7beb-48e8-c127-97bcc5b74d97"
      },
      "source": [
        "word_index = reuters.get_word_index()\n",
        "reverse_word_index = dict([(value, key) for (key, value) in word_index.items()])\n",
        "# Note that our indices were offset by 3\n",
        "# because 0, 1 and 2 are reserved indices for \"padding\", \"start of sequence\", and \"unknown\".\n",
        "decoded_newswire = ' '.join([reverse_word_index.get(i - 3, '?') for i in train_data[0]])"
      ],
      "execution_count": null,
      "outputs": [
        {
          "output_type": "stream",
          "text": [
            "Downloading data from https://s3.amazonaws.com/text-datasets/reuters_word_index.json\n",
            "557056/550378 [==============================] - 0s 0us/step\n"
          ],
          "name": "stdout"
        }
      ]
    },
    {
      "cell_type": "code",
      "metadata": {
        "id": "ddSox4TlqU4C",
        "colab": {
          "base_uri": "https://localhost:8080/",
          "height": 54
        },
        "outputId": "cb684c87-8cb3-45a1-fd01-fb9da466ca6c"
      },
      "source": [
        "decoded_newswire"
      ],
      "execution_count": null,
      "outputs": [
        {
          "output_type": "execute_result",
          "data": {
            "text/plain": [
              "'? ? ? said as a result of its december acquisition of space co it expects earnings per share in 1987 of 1 15 to 1 30 dlrs per share up from 70 cts in 1986 the company said pretax net should rise to nine to 10 mln dlrs from six mln dlrs in 1986 and rental operation revenues to 19 to 22 mln dlrs from 12 5 mln dlrs it said cash flow per share this year should be 2 50 to three dlrs reuter 3'"
            ]
          },
          "metadata": {
            "tags": []
          },
          "execution_count": 8
        }
      ]
    },
    {
      "cell_type": "markdown",
      "metadata": {
        "id": "ynP3cWECqU4G"
      },
      "source": [
        "The label associated with an example is an integer between 0 and 45: a topic index."
      ]
    },
    {
      "cell_type": "code",
      "metadata": {
        "id": "tgYFUvttqU4H",
        "colab": {
          "base_uri": "https://localhost:8080/",
          "height": 34
        },
        "outputId": "3fdec1a2-66ba-4b11-8f17-126c2d5cc2f4"
      },
      "source": [
        "train_labels[10]"
      ],
      "execution_count": null,
      "outputs": [
        {
          "output_type": "execute_result",
          "data": {
            "text/plain": [
              "3"
            ]
          },
          "metadata": {
            "tags": []
          },
          "execution_count": 9
        }
      ]
    },
    {
      "cell_type": "markdown",
      "metadata": {
        "id": "7BC_ELlhqU4M"
      },
      "source": [
        "## Preparing the data\n",
        "\n",
        "We can vectorize the data with the exact same code as in our previous example:"
      ]
    },
    {
      "cell_type": "code",
      "metadata": {
        "id": "hER99XUGqU4M"
      },
      "source": [
        "import numpy as np\n",
        "\n",
        "def vectorize_sequences(sequences, dimension=10000):\n",
        "    results = np.zeros((len(sequences), dimension))\n",
        "    for i, sequence in enumerate(sequences):\n",
        "        results[i, sequence] = 1.\n",
        "    return results\n",
        "\n",
        "# Our vectorized training data\n",
        "x_train = vectorize_sequences(train_data)\n",
        "# Our vectorized test data\n",
        "x_test = vectorize_sequences(test_data)"
      ],
      "execution_count": null,
      "outputs": []
    },
    {
      "cell_type": "markdown",
      "metadata": {
        "id": "z1WaSnS_qU4P"
      },
      "source": [
        "\n",
        "To vectorize the labels, there are two possibilities: we could just cast the label list as an integer tensor, or we could use a \"one-hot\" \n",
        "encoding. One-hot encoding is a widely used format for categorical data, also called \"categorical encoding\". \n",
        "For a more detailed explanation of one-hot encoding, you can refer to Chapter 6, Section 1. \n",
        "In our case, one-hot encoding of our labels consists in embedding each label as an all-zero vector with a 1 in the place of the label index, e.g.:"
      ]
    },
    {
      "cell_type": "code",
      "metadata": {
        "id": "swlVd3onqU4R"
      },
      "source": [
        "def to_one_hot(labels, dimension=46):\n",
        "    results = np.zeros((len(labels), dimension))\n",
        "    for i, label in enumerate(labels):\n",
        "        results[i, label] = 1.\n",
        "    return results\n",
        "\n",
        "# Our vectorized training labels\n",
        "one_hot_train_labels = to_one_hot(train_labels)\n",
        "# Our vectorized test labels\n",
        "one_hot_test_labels = to_one_hot(test_labels)"
      ],
      "execution_count": null,
      "outputs": []
    },
    {
      "cell_type": "markdown",
      "metadata": {
        "id": "BjH2_LCtqU4W"
      },
      "source": [
        "#<font color='red'>Question 1</font> \n",
        "Note that there is a built-in way to do this in Keras, which you have already seen in action in our MNIST example:"
      ]
    },
    {
      "cell_type": "code",
      "metadata": {
        "id": "Zthqv2WnqU4W"
      },
      "source": [
        "from keras.utils import to_categorical\n",
        "one_hot_train_labels = to_categorical(train_labels)\n",
        "one_hot_test_labels = to_categorical(test_labels)"
      ],
      "execution_count": null,
      "outputs": []
    },
    {
      "cell_type": "markdown",
      "metadata": {
        "id": "QyV6n-MDqU4a"
      },
      "source": [
        "#<font color='red'>Question 2</font> \n",
        "## Building our network\n",
        "\n",
        "\n",
        "This topic classification problem looks very similar to our previous movie review classification problem: in both cases, we are trying to \n",
        "classify short snippets of text. There is however a new constraint here: the number of output classes has gone from 2 to 46, i.e. the \n",
        "dimensionality of the output space is much larger. \n",
        "\n",
        "In a stack of `Dense` layers like what we were using, each layer can only access information present in the output of the previous layer. \n",
        "If one layer drops some information relevant to the classification problem, this information can never be recovered by later layers: each \n",
        "layer can potentially become an \"information bottleneck\". In our previous example, we were using 16-dimensional intermediate layers, but a \n",
        "16-dimensional space may be too limited to learn to separate 46 different classes: such small layers may act as information bottlenecks, \n",
        "permanently dropping relevant information.\n",
        "\n",
        "For this reason we will use larger layers. Let's go with 64 units:"
      ]
    },
    {
      "cell_type": "code",
      "metadata": {
        "id": "KUNkQpP4qU4c",
        "colab": {
          "base_uri": "https://localhost:8080/",
          "height": 88
        },
        "outputId": "23b6f90f-5494-4d83-b946-6fb11d16f98a"
      },
      "source": [
        "from keras import models\n",
        "from keras import layers\n",
        "\n",
        "model = models.Sequential()\n",
        "model.add(layers.Dense(64, activation=\"relu\",input_shape=(10000,)))\n",
        "#model.add(layers.Dense(64, activation=\"relu\"))\n",
        "model.add(layers.Dense(46,activation=\"softmax\"))"
      ],
      "execution_count": null,
      "outputs": [
        {
          "output_type": "stream",
          "text": [
            "WARNING:tensorflow:From /usr/local/lib/python3.6/dist-packages/tensorflow/python/framework/op_def_library.py:263: colocate_with (from tensorflow.python.framework.ops) is deprecated and will be removed in a future version.\n",
            "Instructions for updating:\n",
            "Colocations handled automatically by placer.\n"
          ],
          "name": "stdout"
        }
      ]
    },
    {
      "cell_type": "markdown",
      "metadata": {
        "id": "rQrZgMVLqU4h"
      },
      "source": [
        "\n",
        "There are two other things you should note about this architecture:\n",
        "\n",
        "* We are ending the network with a `Dense` layer of size 46. This means that for each input sample, our network will output a \n",
        "46-dimensional vector. Each entry in this vector (each dimension) will encode a different output class.\n",
        "* The last layer uses a `softmax` activation. You have already seen this pattern in the MNIST example. It means that the network will \n",
        "output a _probability distribution_ over the 46 different output classes, i.e. for every input sample, the network will produce a \n",
        "46-dimensional output vector where `output[i]` is the probability that the sample belongs to class `i`. The 46 scores will sum to 1.\n",
        "\n",
        "The best loss function to use in this case is `categorical_crossentropy`. It measures the distance between two probability distributions: \n",
        "in our case, between the probability distribution output by our network, and the true distribution of the labels. By minimizing the \n",
        "distance between these two distributions, we train our network to output something as close as possible to the true labels."
      ]
    },
    {
      "cell_type": "code",
      "metadata": {
        "id": "r5MZgNykqU4j"
      },
      "source": [
        "model.compile(optimizer='rmsprop',\n",
        "              loss='categorical_crossentropy',\n",
        "              metrics=['accuracy'])"
      ],
      "execution_count": null,
      "outputs": []
    },
    {
      "cell_type": "markdown",
      "metadata": {
        "id": "reWHXVXQqU4t"
      },
      "source": [
        "## Validating our approach\n",
        "\n",
        "Let's set apart 1,000 samples in our training data to use as a validation set:"
      ]
    },
    {
      "cell_type": "code",
      "metadata": {
        "id": "RiVEQiizqU4v"
      },
      "source": [
        "x_val = x_train[:1000]\n",
        "partial_x_train = x_train[1000:]\n",
        "\n",
        "y_val = one_hot_train_labels[:1000]\n",
        "partial_y_train = one_hot_train_labels[1000:]"
      ],
      "execution_count": null,
      "outputs": []
    },
    {
      "cell_type": "markdown",
      "metadata": {
        "id": "g31asIHkqU41"
      },
      "source": [
        "Now let's train our network for 20 epochs:"
      ]
    },
    {
      "cell_type": "code",
      "metadata": {
        "id": "U50MWcpRqU41",
        "colab": {
          "base_uri": "https://localhost:8080/",
          "height": 785
        },
        "outputId": "c3d5d0e7-059a-4499-9da3-731440ee6a3a"
      },
      "source": [
        "history = model.fit(partial_x_train,\n",
        "                    partial_y_train,\n",
        "                    epochs=20,\n",
        "                    batch_size=512,\n",
        "                    validation_data=(x_val, y_val))"
      ],
      "execution_count": null,
      "outputs": [
        {
          "output_type": "stream",
          "text": [
            "WARNING:tensorflow:From /usr/local/lib/python3.6/dist-packages/tensorflow/python/ops/math_ops.py:3066: to_int32 (from tensorflow.python.ops.math_ops) is deprecated and will be removed in a future version.\n",
            "Instructions for updating:\n",
            "Use tf.cast instead.\n",
            "Train on 7982 samples, validate on 1000 samples\n",
            "Epoch 1/20\n",
            "7982/7982 [==============================] - 4s 441us/step - loss: 2.5704 - acc: 0.5722 - val_loss: 1.8069 - val_acc: 0.6630\n",
            "Epoch 2/20\n",
            "7982/7982 [==============================] - 1s 74us/step - loss: 1.4658 - acc: 0.7261 - val_loss: 1.3569 - val_acc: 0.7120\n",
            "Epoch 3/20\n",
            "7982/7982 [==============================] - 1s 74us/step - loss: 1.0737 - acc: 0.7875 - val_loss: 1.1523 - val_acc: 0.7610\n",
            "Epoch 4/20\n",
            "7982/7982 [==============================] - 1s 73us/step - loss: 0.8386 - acc: 0.8336 - val_loss: 1.0293 - val_acc: 0.7880\n",
            "Epoch 5/20\n",
            "7982/7982 [==============================] - 1s 77us/step - loss: 0.6737 - acc: 0.8666 - val_loss: 0.9517 - val_acc: 0.8070\n",
            "Epoch 6/20\n",
            "7982/7982 [==============================] - 1s 79us/step - loss: 0.5489 - acc: 0.8923 - val_loss: 0.9116 - val_acc: 0.8130\n",
            "Epoch 7/20\n",
            "7982/7982 [==============================] - 1s 80us/step - loss: 0.4543 - acc: 0.9093 - val_loss: 0.8729 - val_acc: 0.8250\n",
            "Epoch 8/20\n",
            "7982/7982 [==============================] - 1s 79us/step - loss: 0.3768 - acc: 0.9236 - val_loss: 0.8505 - val_acc: 0.8200\n",
            "Epoch 9/20\n",
            "7982/7982 [==============================] - 1s 79us/step - loss: 0.3162 - acc: 0.9359 - val_loss: 0.8408 - val_acc: 0.8290\n",
            "Epoch 10/20\n",
            "7982/7982 [==============================] - 1s 78us/step - loss: 0.2703 - acc: 0.9425 - val_loss: 0.8338 - val_acc: 0.8320\n",
            "Epoch 11/20\n",
            "7982/7982 [==============================] - 1s 79us/step - loss: 0.2332 - acc: 0.9479 - val_loss: 0.8424 - val_acc: 0.8270\n",
            "Epoch 12/20\n",
            "7982/7982 [==============================] - 1s 79us/step - loss: 0.2037 - acc: 0.9505 - val_loss: 0.8444 - val_acc: 0.8280\n",
            "Epoch 13/20\n",
            "7982/7982 [==============================] - 1s 79us/step - loss: 0.1824 - acc: 0.9526 - val_loss: 0.8494 - val_acc: 0.8290\n",
            "Epoch 14/20\n",
            "7982/7982 [==============================] - 1s 79us/step - loss: 0.1639 - acc: 0.9546 - val_loss: 0.8624 - val_acc: 0.8210\n",
            "Epoch 15/20\n",
            "7982/7982 [==============================] - 1s 78us/step - loss: 0.1489 - acc: 0.9562 - val_loss: 0.8806 - val_acc: 0.8300\n",
            "Epoch 16/20\n",
            "7982/7982 [==============================] - 1s 79us/step - loss: 0.1382 - acc: 0.9557 - val_loss: 0.8895 - val_acc: 0.8200\n",
            "Epoch 17/20\n",
            "7982/7982 [==============================] - 1s 80us/step - loss: 0.1277 - acc: 0.9582 - val_loss: 0.9062 - val_acc: 0.8180\n",
            "Epoch 18/20\n",
            "7982/7982 [==============================] - 1s 79us/step - loss: 0.1212 - acc: 0.9577 - val_loss: 0.9227 - val_acc: 0.8130\n",
            "Epoch 19/20\n",
            "7982/7982 [==============================] - 1s 81us/step - loss: 0.1142 - acc: 0.9573 - val_loss: 0.9474 - val_acc: 0.8240\n",
            "Epoch 20/20\n",
            "7982/7982 [==============================] - 1s 80us/step - loss: 0.1117 - acc: 0.9584 - val_loss: 0.9388 - val_acc: 0.8160\n"
          ],
          "name": "stdout"
        }
      ]
    },
    {
      "cell_type": "markdown",
      "metadata": {
        "id": "iR4XcY9hqU45"
      },
      "source": [
        "Let's display its loss and accuracy curves:"
      ]
    },
    {
      "cell_type": "code",
      "metadata": {
        "id": "Xbptg9zZqU45",
        "colab": {
          "base_uri": "https://localhost:8080/",
          "height": 376
        },
        "outputId": "44470b35-7cce-4df6-cf53-2fbf3466723e"
      },
      "source": [
        "import matplotlib.pyplot as plt\n",
        "\n",
        "loss = history.history['loss']\n",
        "val_loss = history.history['val_loss']\n",
        "\n",
        "epochs = range(1, len(loss) + 1)\n",
        "\n",
        "plt.plot(epochs, loss, 'bo', label='Training loss')\n",
        "plt.plot(epochs, val_loss, 'b', label='Validation loss')\n",
        "plt.title('Training and validation loss')\n",
        "plt.xlabel('Epochs')\n",
        "plt.ylabel('Loss')\n",
        "plt.legend()\n",
        "\n",
        "plt.show()"
      ],
      "execution_count": null,
      "outputs": [
        {
          "output_type": "display_data",
          "data": {
            "image/png": "[encoded data removed]",
            "text/plain": [
              "<Figure size 576x396 with 1 Axes>"
            ]
          },
          "metadata": {
            "tags": []
          }
        }
      ]
    },
    {
      "cell_type": "code",
      "metadata": {
        "id": "RravGyX0qU4-",
        "colab": {
          "base_uri": "https://localhost:8080/",
          "height": 376
        },
        "outputId": "17fe3da9-c1bb-48a0-bc3b-d612fa6bd1c8"
      },
      "source": [
        "plt.clf()   # clear figure\n",
        "\n",
        "acc = history.history['acc']\n",
        "val_acc = history.history['val_acc']\n",
        "\n",
        "plt.plot(epochs, acc, 'bo', label='Training acc')\n",
        "plt.plot(epochs, val_acc, 'b', label='Validation acc')\n",
        "plt.title('Training and validation accuracy')\n",
        "plt.xlabel('Epochs')\n",
        "plt.ylabel('Loss')\n",
        "plt.legend()\n",
        "\n",
        "plt.show()"
      ],
      "execution_count": null,
      "outputs": [
        {
          "output_type": "display_data",
          "data": {
            "image/png": "[encoded data removed]",
            "text/plain": [
              "<Figure size 576x396 with 1 Axes>"
            ]
          },
          "metadata": {
            "tags": []
          }
        }
      ]
    },
    {
      "cell_type": "markdown",
      "metadata": {
        "id": "gyyEsh8UqU5D"
      },
      "source": [
        "#<font color='red'>Question 3</font> \n",
        "It seems that the network starts overfitting after 8 epochs. Let's train a new network from scratch for 8 epochs, then let's evaluate it on \n",
        "the test set:"
      ]
    },
    {
      "cell_type": "code",
      "metadata": {
        "id": "LzPGx8qeqU5E",
        "colab": {
          "base_uri": "https://localhost:8080/",
          "height": 323
        },
        "outputId": "3f2d0a32-58fb-407f-8eab-d03d2102b3df"
      },
      "source": [
        "\n",
        "model = models.Sequential()\n",
        "model.add(layers.Dense(64, activation=\"relu\",input_shape=(10000,)))\n",
        "model.add(layers.Dense(64, activation=\"relu\"))\n",
        "model.add(layers.Dense(46,activation=\"softmax\"))\n",
        "\n",
        "model.compile(optimizer='rmsprop',\n",
        "              loss='categorical_crossentropy',\n",
        "              metrics=['accuracy'])\n",
        "history = model.fit(partial_x_train,\n",
        "                    partial_y_train,\n",
        "                    epochs=8,\n",
        "                    batch_size=512,\n",
        "                    validation_data=(x_val, y_val))\n",
        "\n",
        "results = model.evaluate(x_test, one_hot_test_labels)"
      ],
      "execution_count": null,
      "outputs": [
        {
          "output_type": "stream",
          "text": [
            "Train on 7982 samples, validate on 1000 samples\n",
            "Epoch 1/8\n",
            "7982/7982 [==============================] - 1s 95us/step - loss: 2.5398 - acc: 0.5226 - val_loss: 1.6733 - val_acc: 0.6570\n",
            "Epoch 2/8\n",
            "7982/7982 [==============================] - 1s 74us/step - loss: 1.3712 - acc: 0.7121 - val_loss: 1.2758 - val_acc: 0.7210\n",
            "Epoch 3/8\n",
            "7982/7982 [==============================] - 1s 70us/step - loss: 1.0136 - acc: 0.7781 - val_loss: 1.1303 - val_acc: 0.7530\n",
            "Epoch 4/8\n",
            "7982/7982 [==============================] - 1s 74us/step - loss: 0.7976 - acc: 0.8251 - val_loss: 1.0539 - val_acc: 0.7590\n",
            "Epoch 5/8\n",
            "7982/7982 [==============================] - 1s 79us/step - loss: 0.6393 - acc: 0.8624 - val_loss: 0.9754 - val_acc: 0.7920\n",
            "Epoch 6/8\n",
            "7982/7982 [==============================] - 1s 79us/step - loss: 0.5124 - acc: 0.8921 - val_loss: 0.9102 - val_acc: 0.8140\n",
            "Epoch 7/8\n",
            "7982/7982 [==============================] - 1s 80us/step - loss: 0.4124 - acc: 0.9137 - val_loss: 0.8932 - val_acc: 0.8210\n",
            "Epoch 8/8\n",
            "7982/7982 [==============================] - 1s 79us/step - loss: 0.3355 - acc: 0.9290 - val_loss: 0.8732 - val_acc: 0.8260\n",
            "2246/2246 [==============================] - 0s 107us/step\n"
          ],
          "name": "stdout"
        }
      ]
    },
    {
      "cell_type": "code",
      "metadata": {
        "id": "2lwu30_BqU5I",
        "colab": {
          "base_uri": "https://localhost:8080/",
          "height": 34
        },
        "outputId": "d96f765a-b550-4814-b5fa-f27a998cd44f"
      },
      "source": [
        "results"
      ],
      "execution_count": null,
      "outputs": [
        {
          "output_type": "execute_result",
          "data": {
            "text/plain": [
              "[0.9845061357384374, 0.7836153161175423]"
            ]
          },
          "metadata": {
            "tags": []
          },
          "execution_count": 20
        }
      ]
    },
    {
      "cell_type": "markdown",
      "metadata": {
        "id": "H8Bn1VY-qU5L"
      },
      "source": [
        "\n",
        "Our approach reaches an accuracy of ~78%. With a balanced binary classification problem, the accuracy reached by a purely random classifier \n",
        "would be 50%, but in our case it is closer to 19%, so our results seem pretty good, at least when compared to a random baseline:"
      ]
    },
    {
      "cell_type": "code",
      "metadata": {
        "id": "2MOfc-k6qU5N",
        "colab": {
          "base_uri": "https://localhost:8080/",
          "height": 34
        },
        "outputId": "8c2b9941-6a2c-4aee-ee7f-ec62871a5180"
      },
      "source": [
        "import copy\n",
        "\n",
        "test_labels_copy = copy.copy(test_labels)\n",
        "np.random.shuffle(test_labels_copy)\n",
        "float(np.sum(np.array(test_labels) == np.array(test_labels_copy))) / len(test_labels)"
      ],
      "execution_count": null,
      "outputs": [
        {
          "output_type": "execute_result",
          "data": {
            "text/plain": [
              "0.19679430097951914"
            ]
          },
          "metadata": {
            "tags": []
          },
          "execution_count": 21
        }
      ]
    },
    {
      "cell_type": "markdown",
      "metadata": {
        "id": "lFAsV-roqU5S"
      },
      "source": [
        "#<font color='red'>Question 4</font>\n",
        "## Generating predictions on new data\n",
        "\n",
        "We can verify that the `predict` method of our model instance returns a probability distribution over all 46 topics. Let's generate topic \n",
        "predictions for all of the test data:"
      ]
    },
    {
      "cell_type": "code",
      "metadata": {
        "id": "mPD8h0rmqU5U"
      },
      "source": [
        "predictions = model.predict(x_test)"
      ],
      "execution_count": null,
      "outputs": []
    },
    {
      "cell_type": "markdown",
      "metadata": {
        "id": "pMAxfLaSqU5X"
      },
      "source": [
        "Each entry in `predictions` is a vector of length 46:"
      ]
    },
    {
      "cell_type": "code",
      "metadata": {
        "id": "3CHAShooqU5a",
        "colab": {
          "base_uri": "https://localhost:8080/",
          "height": 34
        },
        "outputId": "78b3b7b0-b860-4ced-ff15-0950e3ada419"
      },
      "source": [
        "predictions[0].shape"
      ],
      "execution_count": null,
      "outputs": [
        {
          "output_type": "execute_result",
          "data": {
            "text/plain": [
              "(46,)"
            ]
          },
          "metadata": {
            "tags": []
          },
          "execution_count": 37
        }
      ]
    },
    {
      "cell_type": "markdown",
      "metadata": {
        "id": "rmjbE95UqU5d"
      },
      "source": [
        "The coefficients in this vector sum to 1:"
      ]
    },
    {
      "cell_type": "code",
      "metadata": {
        "id": "PnlyrRCpqU5d",
        "colab": {
          "base_uri": "https://localhost:8080/",
          "height": 34
        },
        "outputId": "9812b5cd-ab9d-4cf6-8809-5e7e235169d7"
      },
      "source": [
        "np.sum(predictions[0])"
      ],
      "execution_count": null,
      "outputs": [
        {
          "output_type": "execute_result",
          "data": {
            "text/plain": [
              "1.0"
            ]
          },
          "metadata": {
            "tags": []
          },
          "execution_count": 38
        }
      ]
    },
    {
      "cell_type": "markdown",
      "metadata": {
        "id": "n4FjifngqU5g"
      },
      "source": [
        "The largest entry is the predicted class, i.e. the class with the highest probability:"
      ]
    },
    {
      "cell_type": "code",
      "metadata": {
        "id": "-7PEOcmgqU5h"
      },
      "source": [
        "import numpy as np\n",
        "Pclass = np.argmax(predictions[0])"
      ],
      "execution_count": null,
      "outputs": []
    },
    {
      "cell_type": "code",
      "metadata": {
        "id": "DRDyhOvGmbrT",
        "colab": {
          "base_uri": "https://localhost:8080/",
          "height": 34
        },
        "outputId": "9a371cf2-48f1-4d14-9af3-41a4e6c7c026"
      },
      "source": [
        "Pclass"
      ],
      "execution_count": null,
      "outputs": [
        {
          "output_type": "execute_result",
          "data": {
            "text/plain": [
              "3"
            ]
          },
          "metadata": {
            "tags": []
          },
          "execution_count": 44
        }
      ]
    },
    {
      "cell_type": "markdown",
      "metadata": {
        "id": "jF8e52HlqU5k"
      },
      "source": [
        "## A different way to handle the labels and the loss\n",
        "\n",
        "We mentioned earlier that another way to encode the labels would be to cast them as an integer tensor, like such:"
      ]
    },
    {
      "cell_type": "code",
      "metadata": {
        "id": "rcoIj8iqqU5l"
      },
      "source": [
        "y_train = np.array(train_labels)\n",
        "y_test = np.array(test_labels)"
      ],
      "execution_count": null,
      "outputs": []
    },
    {
      "cell_type": "markdown",
      "metadata": {
        "id": "ChDvjVHdqU5n"
      },
      "source": [
        "\n",
        "The only thing it would change is the choice of the loss function. Our previous loss, `categorical_crossentropy`, expects the labels to \n",
        "follow a categorical encoding. With integer labels, we should use `sparse_categorical_crossentropy`:"
      ]
    },
    {
      "cell_type": "code",
      "metadata": {
        "id": "HFgZ0joYqU5o"
      },
      "source": [
        "model.compile(optimizer='rmsprop', loss='sparse_categorical_crossentropy', metrics=['acc'])"
      ],
      "execution_count": null,
      "outputs": []
    },
    {
      "cell_type": "markdown",
      "metadata": {
        "id": "u7KNuOg0qU5q"
      },
      "source": [
        "This new loss function is still mathematically the same as `categorical_crossentropy`; it just has a different interface."
      ]
    },
    {
      "cell_type": "markdown",
      "metadata": {
        "id": "7UgfBSBTqU5r"
      },
      "source": [
        "## On the importance of having sufficiently large intermediate layers\n",
        "\n",
        "\n",
        "We mentioned earlier that since our final outputs were 46-dimensional, we should avoid intermediate layers with much less than 46 hidden \n",
        "units. Now let's try to see what happens when we introduce an information bottleneck by having intermediate layers significantly less than \n",
        "46-dimensional, e.g. 4-dimensional."
      ]
    },
    {
      "cell_type": "code",
      "metadata": {
        "id": "OY47QEjKqU5s",
        "colab": {
          "base_uri": "https://localhost:8080/",
          "height": 731
        },
        "outputId": "64b1b1d8-f33b-4be8-aab7-cb75d63168ff"
      },
      "source": [
        "model = models.Sequential()\n",
        "model.add(layers.Dense(64, activation='relu', input_shape=(10000,)))\n",
        "model.add(layers.Dense(64, activation='relu'))\n",
        "model.add(layers.Dense(46, activation='softmax'))\n",
        "\n",
        "model.compile(optimizer='rmsprop',\n",
        "              loss='categorical_crossentropy',\n",
        "              metrics=['accuracy'])\n",
        "model.fit(partial_x_train,\n",
        "          partial_y_train,\n",
        "          epochs=20,\n",
        "          batch_size=128,\n",
        "          validation_data=(x_val, y_val))"
      ],
      "execution_count": null,
      "outputs": [
        {
          "output_type": "stream",
          "text": [
            "Train on 7982 samples, validate on 1000 samples\n",
            "Epoch 1/20\n",
            "7982/7982 [==============================] - 1s 138us/step - loss: 1.8282 - acc: 0.6158 - val_loss: 1.3179 - val_acc: 0.6910\n",
            "Epoch 2/20\n",
            "7982/7982 [==============================] - 1s 91us/step - loss: 0.9496 - acc: 0.7893 - val_loss: 1.0182 - val_acc: 0.7720\n",
            "Epoch 3/20\n",
            "7982/7982 [==============================] - 1s 101us/step - loss: 0.6484 - acc: 0.8557 - val_loss: 0.8917 - val_acc: 0.8030\n",
            "Epoch 4/20\n",
            "7982/7982 [==============================] - 1s 95us/step - loss: 0.4492 - acc: 0.9030 - val_loss: 0.9193 - val_acc: 0.8010\n",
            "Epoch 5/20\n",
            "7982/7982 [==============================] - 1s 97us/step - loss: 0.3270 - acc: 0.9286 - val_loss: 0.8946 - val_acc: 0.8140\n",
            "Epoch 6/20\n",
            "7982/7982 [==============================] - 1s 99us/step - loss: 0.2534 - acc: 0.9419 - val_loss: 0.8977 - val_acc: 0.8190\n",
            "Epoch 7/20\n",
            "7982/7982 [==============================] - 1s 98us/step - loss: 0.2068 - acc: 0.9474 - val_loss: 0.9937 - val_acc: 0.8050\n",
            "Epoch 8/20\n",
            "7982/7982 [==============================] - 1s 96us/step - loss: 0.1794 - acc: 0.9531 - val_loss: 0.9672 - val_acc: 0.8160\n",
            "Epoch 9/20\n",
            "7982/7982 [==============================] - 1s 98us/step - loss: 0.1640 - acc: 0.9530 - val_loss: 0.9865 - val_acc: 0.8150\n",
            "Epoch 10/20\n",
            "7982/7982 [==============================] - 1s 101us/step - loss: 0.1550 - acc: 0.9550 - val_loss: 0.9896 - val_acc: 0.8130\n",
            "Epoch 11/20\n",
            "7982/7982 [==============================] - 1s 96us/step - loss: 0.1412 - acc: 0.9535 - val_loss: 1.1164 - val_acc: 0.7980\n",
            "Epoch 12/20\n",
            "7982/7982 [==============================] - 1s 100us/step - loss: 0.1381 - acc: 0.9539 - val_loss: 1.1342 - val_acc: 0.8070\n",
            "Epoch 13/20\n",
            "7982/7982 [==============================] - 1s 98us/step - loss: 0.1272 - acc: 0.9558 - val_loss: 1.0521 - val_acc: 0.8060\n",
            "Epoch 14/20\n",
            "7982/7982 [==============================] - 1s 101us/step - loss: 0.1270 - acc: 0.9563 - val_loss: 1.1207 - val_acc: 0.7960\n",
            "Epoch 15/20\n",
            "7982/7982 [==============================] - 1s 99us/step - loss: 0.1210 - acc: 0.9564 - val_loss: 1.1870 - val_acc: 0.7880\n",
            "Epoch 16/20\n",
            "7982/7982 [==============================] - 1s 101us/step - loss: 0.1151 - acc: 0.9594 - val_loss: 1.1422 - val_acc: 0.8060\n",
            "Epoch 17/20\n",
            "7982/7982 [==============================] - 1s 100us/step - loss: 0.1141 - acc: 0.9569 - val_loss: 1.1210 - val_acc: 0.8000\n",
            "Epoch 18/20\n",
            "7982/7982 [==============================] - 1s 98us/step - loss: 0.1102 - acc: 0.9582 - val_loss: 1.2214 - val_acc: 0.7910\n",
            "Epoch 19/20\n",
            "7982/7982 [==============================] - 1s 99us/step - loss: 0.1093 - acc: 0.9563 - val_loss: 1.1663 - val_acc: 0.7980\n",
            "Epoch 20/20\n",
            "7982/7982 [==============================] - 1s 99us/step - loss: 0.1042 - acc: 0.9563 - val_loss: 1.2346 - val_acc: 0.8050\n"
          ],
          "name": "stdout"
        },
        {
          "output_type": "execute_result",
          "data": {
            "text/plain": [
              "<keras.callbacks.History at 0x7fc5de7695f8>"
            ]
          },
          "metadata": {
            "tags": []
          },
          "execution_count": 57
        }
      ]
    },
    {
      "cell_type": "markdown",
      "metadata": {
        "id": "fTKwMzpTqU5w"
      },
      "source": [
        "\n",
        "Our network now seems to peak at ~71% test accuracy, a 8% absolute drop. This drop is mostly due to the fact that we are now trying to \n",
        "compress a lot of information (enough information to recover the separation hyperplanes of 46 classes) into an intermediate space that is \n",
        "too low-dimensional. The network is able to cram _most_ of the necessary information into these 8-dimensional representations, but not all \n",
        "of it."
      ]
    },
    {
      "cell_type": "markdown",
      "metadata": {
        "id": "J2jKst3dqU5y"
      },
      "source": [
        "#<font color='red'>Question 5</font>\n",
        "## Further experiments\n",
        "\n",
        "* Try using larger or smaller layers: 32 units, 128 units...\n",
        "* We were using two hidden layers. Now try to use a single hidden layer, or three hidden layers."
      ]
    },
    {
      "cell_type": "code",
      "metadata": {
        "id": "-enYvAnCm3S2"
      },
      "source": [
        "model = models.Sequential()\n",
        "model.add(layers.Dense(64, activation=\"relu\",input_shape=(10000,)))\n",
        "model.add(layers.Dense(46,activation=\"softmax\"))"
      ],
      "execution_count": null,
      "outputs": []
    },
    {
      "cell_type": "code",
      "metadata": {
        "id": "K6nEEaotnWxd",
        "colab": {
          "base_uri": "https://localhost:8080/",
          "height": 323
        },
        "outputId": "d97d2943-0956-40c7-a81f-abba9bb95f59"
      },
      "source": [
        "model.compile(optimizer='rmsprop',\n",
        "              loss='categorical_crossentropy',\n",
        "              metrics=['accuracy'])\n",
        "history = model.fit(partial_x_train,\n",
        "                    partial_y_train,\n",
        "                    epochs=8,\n",
        "                    batch_size=512,\n",
        "                    validation_data=(x_val, y_val))\n",
        "\n",
        "results = model.evaluate(x_test, one_hot_test_labels)\n"
      ],
      "execution_count": null,
      "outputs": [
        {
          "output_type": "stream",
          "text": [
            "Train on 7982 samples, validate on 1000 samples\n",
            "Epoch 1/8\n",
            "7982/7982 [==============================] - 1s 118us/step - loss: 2.7704 - acc: 0.4638 - val_loss: 2.0422 - val_acc: 0.6330\n",
            "Epoch 2/8\n",
            "7982/7982 [==============================] - 1s 80us/step - loss: 1.6350 - acc: 0.7081 - val_loss: 1.4624 - val_acc: 0.7210\n",
            "Epoch 3/8\n",
            "7982/7982 [==============================] - 1s 82us/step - loss: 1.1483 - acc: 0.7843 - val_loss: 1.2033 - val_acc: 0.7690\n",
            "Epoch 4/8\n",
            "7982/7982 [==============================] - 1s 90us/step - loss: 0.8754 - acc: 0.8272 - val_loss: 1.0457 - val_acc: 0.7910\n",
            "Epoch 5/8\n",
            "7982/7982 [==============================] - 1s 91us/step - loss: 0.6935 - acc: 0.8661 - val_loss: 0.9566 - val_acc: 0.8120\n",
            "Epoch 6/8\n",
            "7982/7982 [==============================] - 1s 88us/step - loss: 0.5636 - acc: 0.8877 - val_loss: 0.9128 - val_acc: 0.8070\n",
            "Epoch 7/8\n",
            "7982/7982 [==============================] - 1s 89us/step - loss: 0.4662 - acc: 0.9080 - val_loss: 0.8728 - val_acc: 0.8140\n",
            "Epoch 8/8\n",
            "7982/7982 [==============================] - 1s 89us/step - loss: 0.3885 - acc: 0.9212 - val_loss: 0.8589 - val_acc: 0.8210\n",
            "2246/2246 [==============================] - 0s 102us/step\n"
          ],
          "name": "stdout"
        }
      ]
    },
    {
      "cell_type": "code",
      "metadata": {
        "id": "JQs6PupwoEPI",
        "colab": {
          "base_uri": "https://localhost:8080/",
          "height": 323
        },
        "outputId": "d724456d-5081-498e-c2db-cb64ca3736e6"
      },
      "source": [
        "model = models.Sequential()\n",
        "model.add(layers.Dense(32, activation=\"relu\",input_shape=(10000,)))\n",
        "model.add(layers.Dense(46,activation=\"softmax\"))\n",
        "\n",
        "model.compile(optimizer='rmsprop',\n",
        "              loss='categorical_crossentropy',\n",
        "              metrics=['accuracy'])\n",
        "history = model.fit(partial_x_train,\n",
        "                    partial_y_train,\n",
        "                    epochs=8,\n",
        "                    batch_size=512,\n",
        "                    validation_data=(x_val, y_val))\n",
        "\n",
        "results = model.evaluate(x_test, one_hot_test_labels)\n"
      ],
      "execution_count": null,
      "outputs": [
        {
          "output_type": "stream",
          "text": [
            "Train on 7982 samples, validate on 1000 samples\n",
            "Epoch 1/8\n",
            "7982/7982 [==============================] - 1s 114us/step - loss: 2.9944 - acc: 0.4498 - val_loss: 2.4153 - val_acc: 0.6040\n",
            "Epoch 2/8\n",
            "7982/7982 [==============================] - 1s 72us/step - loss: 2.0534 - acc: 0.6293 - val_loss: 1.8439 - val_acc: 0.6560\n",
            "Epoch 3/8\n",
            "7982/7982 [==============================] - 1s 72us/step - loss: 1.5525 - acc: 0.7095 - val_loss: 1.5037 - val_acc: 0.7080\n",
            "Epoch 4/8\n",
            "7982/7982 [==============================] - 1s 76us/step - loss: 1.2339 - acc: 0.7684 - val_loss: 1.2927 - val_acc: 0.7350\n",
            "Epoch 5/8\n",
            "7982/7982 [==============================] - 1s 81us/step - loss: 1.0173 - acc: 0.8012 - val_loss: 1.1550 - val_acc: 0.7610\n",
            "Epoch 6/8\n",
            "7982/7982 [==============================] - 1s 81us/step - loss: 0.8597 - acc: 0.8282 - val_loss: 1.0623 - val_acc: 0.7760\n",
            "Epoch 7/8\n",
            "7982/7982 [==============================] - 1s 81us/step - loss: 0.7389 - acc: 0.8528 - val_loss: 0.9956 - val_acc: 0.7940\n",
            "Epoch 8/8\n",
            "7982/7982 [==============================] - 1s 80us/step - loss: 0.6421 - acc: 0.8711 - val_loss: 0.9505 - val_acc: 0.8050\n",
            "2246/2246 [==============================] - 0s 103us/step\n"
          ],
          "name": "stdout"
        }
      ]
    },
    {
      "cell_type": "code",
      "metadata": {
        "id": "fSH_cekIoaBE",
        "colab": {
          "base_uri": "https://localhost:8080/",
          "height": 323
        },
        "outputId": "2dc8e82d-513b-49a2-9fb1-3789f2a1a5e7"
      },
      "source": [
        "model = models.Sequential()\n",
        "model.add(layers.Dense(128, activation=\"relu\",input_shape=(10000,)))\n",
        "model.add(layers.Dense(46,activation=\"softmax\"))\n",
        "\n",
        "model.compile(optimizer='rmsprop',\n",
        "              loss='categorical_crossentropy',\n",
        "              metrics=['accuracy'])\n",
        "history = model.fit(partial_x_train,\n",
        "                    partial_y_train,\n",
        "                    epochs=8,\n",
        "                    batch_size=512,\n",
        "                    validation_data=(x_val, y_val))\n",
        "\n",
        "results = model.evaluate(x_test, one_hot_test_labels)\n"
      ],
      "execution_count": null,
      "outputs": [
        {
          "output_type": "stream",
          "text": [
            "Train on 7982 samples, validate on 1000 samples\n",
            "Epoch 1/8\n",
            "7982/7982 [==============================] - 1s 116us/step - loss: 2.2679 - acc: 0.5856 - val_loss: 1.4729 - val_acc: 0.7210\n",
            "Epoch 2/8\n",
            "7982/7982 [==============================] - 1s 75us/step - loss: 1.1412 - acc: 0.7739 - val_loss: 1.1186 - val_acc: 0.7680\n",
            "Epoch 3/8\n",
            "7982/7982 [==============================] - 1s 74us/step - loss: 0.7823 - acc: 0.8468 - val_loss: 0.9686 - val_acc: 0.7900\n",
            "Epoch 4/8\n",
            "7982/7982 [==============================] - 1s 78us/step - loss: 0.5804 - acc: 0.8855 - val_loss: 0.8923 - val_acc: 0.8180\n",
            "Epoch 5/8\n",
            "7982/7982 [==============================] - 1s 85us/step - loss: 0.4421 - acc: 0.9126 - val_loss: 0.8651 - val_acc: 0.8130\n",
            "Epoch 6/8\n",
            "7982/7982 [==============================] - 1s 84us/step - loss: 0.3442 - acc: 0.9306 - val_loss: 0.8395 - val_acc: 0.8150\n",
            "Epoch 7/8\n",
            "7982/7982 [==============================] - 1s 85us/step - loss: 0.2780 - acc: 0.9404 - val_loss: 0.8189 - val_acc: 0.8220\n",
            "Epoch 8/8\n",
            "7982/7982 [==============================] - 1s 84us/step - loss: 0.2285 - acc: 0.9470 - val_loss: 0.8261 - val_acc: 0.8280\n",
            "2246/2246 [==============================] - 0s 105us/step\n"
          ],
          "name": "stdout"
        }
      ]
    },
    {
      "cell_type": "code",
      "metadata": {
        "id": "xRKQslZspRID",
        "colab": {
          "base_uri": "https://localhost:8080/",
          "height": 376
        },
        "outputId": "ff0c4da0-9fb6-4521-fa5e-439b36cd4fe0"
      },
      "source": [
        "import matplotlib.pyplot as plt\n",
        "\n",
        "loss = history.history['loss']\n",
        "val_loss = history.history['val_loss']\n",
        "\n",
        "epochs = range(1, len(loss) + 1)\n",
        "\n",
        "plt.plot(epochs, loss, 'bo', label='Training loss')\n",
        "plt.plot(epochs, val_loss, 'b', label='Validation loss')\n",
        "plt.title('Training and validation loss')\n",
        "plt.xlabel('Epochs')\n",
        "plt.ylabel('Loss')\n",
        "plt.legend()\n",
        "\n",
        "plt.show()"
      ],
      "execution_count": null,
      "outputs": [
        {
          "output_type": "display_data",
          "data": {
            "image/png": "[encoded data removed]",
            "text/plain": [
              "<Figure size 576x396 with 1 Axes>"
            ]
          },
          "metadata": {
            "tags": []
          }
        }
      ]
    },
    {
      "cell_type": "code",
      "metadata": {
        "id": "aB7dSz_tnhBs",
        "colab": {
          "base_uri": "https://localhost:8080/",
          "height": 376
        },
        "outputId": "23961f61-8f46-44ba-94c0-9cb46663a6c9"
      },
      "source": [
        "plt.clf()   # clear figure\n",
        "\n",
        "epochs = range(1, len(loss) + 1)\n",
        "acc = history.history['acc']\n",
        "val_acc = history.history['val_acc']\n",
        "\n",
        "plt.plot(epochs, acc, 'bo', label='Training acc')\n",
        "plt.plot(epochs, val_acc, 'b', label='Validation acc')\n",
        "plt.title('Training and validation accuracy')\n",
        "plt.xlabel('Epochs')\n",
        "plt.ylabel('Loss')\n",
        "plt.legend()\n",
        "\n",
        "plt.show()"
      ],
      "execution_count": null,
      "outputs": [
        {
          "output_type": "display_data",
          "data": {
            "image/png": "[encoded data removed]",
            "text/plain": [
              "<Figure size 576x396 with 1 Axes>"
            ]
          },
          "metadata": {
            "tags": []
          }
        }
      ]
    },
    {
      "cell_type": "code",
      "metadata": {
        "id": "7T_Mmzofpa9M",
        "colab": {
          "base_uri": "https://localhost:8080/",
          "height": 323
        },
        "outputId": "c12905b4-46e7-411b-fde3-2c4fe79ed063"
      },
      "source": [
        "model = models.Sequential()\n",
        "model.add(layers.Dense(256, activation=\"relu\",input_shape=(10000,)))\n",
        "model.add(layers.Dense(128, activation='relu'))\n",
        "model.add(layers.Dense(64, activation='relu'))\n",
        "\n",
        "model.add(layers.Dense(46,activation=\"softmax\"))\n",
        "\n",
        "model.compile(optimizer='rmsprop',\n",
        "              loss='categorical_crossentropy',\n",
        "              metrics=['accuracy'])\n",
        "history = model.fit(partial_x_train,\n",
        "                    partial_y_train,\n",
        "                    epochs=8,\n",
        "                    batch_size=512,\n",
        "                    validation_data=(x_val, y_val))\n",
        "\n",
        "results = model.evaluate(x_test, one_hot_test_labels)\n"
      ],
      "execution_count": null,
      "outputs": [
        {
          "output_type": "stream",
          "text": [
            "Train on 7982 samples, validate on 1000 samples\n",
            "Epoch 1/8\n",
            "7982/7982 [==============================] - 1s 140us/step - loss: 2.3766 - acc: 0.5035 - val_loss: 1.4777 - val_acc: 0.6710\n",
            "Epoch 2/8\n",
            "7982/7982 [==============================] - 1s 81us/step - loss: 1.1556 - acc: 0.7452 - val_loss: 1.2267 - val_acc: 0.7280\n",
            "Epoch 3/8\n",
            "7982/7982 [==============================] - 1s 87us/step - loss: 0.8129 - acc: 0.8198 - val_loss: 1.0005 - val_acc: 0.7860\n",
            "Epoch 4/8\n",
            "7982/7982 [==============================] - 1s 89us/step - loss: 0.5631 - acc: 0.8782 - val_loss: 0.9535 - val_acc: 0.7970\n",
            "Epoch 5/8\n",
            "7982/7982 [==============================] - 1s 90us/step - loss: 0.4167 - acc: 0.9094 - val_loss: 0.8875 - val_acc: 0.8120\n",
            "Epoch 6/8\n",
            "7982/7982 [==============================] - 1s 92us/step - loss: 0.2745 - acc: 0.9401 - val_loss: 0.8872 - val_acc: 0.8110\n",
            "Epoch 7/8\n",
            "7982/7982 [==============================] - 1s 90us/step - loss: 0.2369 - acc: 0.9454 - val_loss: 0.9020 - val_acc: 0.8220\n",
            "Epoch 8/8\n",
            "7982/7982 [==============================] - 1s 89us/step - loss: 0.1930 - acc: 0.9501 - val_loss: 0.9676 - val_acc: 0.8160\n",
            "2246/2246 [==============================] - 0s 107us/step\n"
          ],
          "name": "stdout"
        }
      ]
    },
    {
      "cell_type": "code",
      "metadata": {
        "id": "meCT6xPTp6z0",
        "colab": {
          "base_uri": "https://localhost:8080/",
          "height": 376
        },
        "outputId": "2b02f578-64b1-4d9e-d50a-ffa1625c1644"
      },
      "source": [
        "import matplotlib.pyplot as plt\n",
        "\n",
        "loss = history.history['loss']\n",
        "val_loss = history.history['val_loss']\n",
        "\n",
        "epochs = range(1, len(loss) + 1)\n",
        "\n",
        "plt.plot(epochs, loss, 'bo', label='Training loss')\n",
        "plt.plot(epochs, val_loss, 'b', label='Validation loss')\n",
        "plt.title('Training and validation loss')\n",
        "plt.xlabel('Epochs')\n",
        "plt.ylabel('Loss')\n",
        "plt.legend()\n",
        "\n",
        "plt.show()"
      ],
      "execution_count": null,
      "outputs": [
        {
          "output_type": "display_data",
          "data": {
            "image/png": "[encoded data removed]",
            "text/plain": [
              "<Figure size 576x396 with 1 Axes>"
            ]
          },
          "metadata": {
            "tags": []
          }
        }
      ]
    },
    {
      "cell_type": "markdown",
      "metadata": {
        "id": "EqPG2NGwqU5z"
      },
      "source": [
        "## Wrapping up\n",
        "\n",
        "\n",
        "Here's what you should take away from this example:\n",
        "\n",
        "* If you are trying to classify data points between N classes, your network should end with a `Dense` layer of size N.\n",
        "* In a single-label, multi-class classification problem, your network should end with a `softmax` activation, so that it will output a \n",
        "probability distribution over the N output classes.\n",
        "* _Categorical crossentropy_ is almost always the loss function you should use for such problems. It minimizes the distance between the \n",
        "probability distributions output by the network, and the true distribution of the targets.\n",
        "* There are two ways to handle labels in multi-class classification:\n",
        "    ** Encoding the labels via \"categorical encoding\" (also known as \"one-hot encoding\") and using `categorical_crossentropy` as your loss \n",
        "function.\n",
        "    ** Encoding the labels as integers and using the `sparse_categorical_crossentropy` loss function.\n",
        "* If you need to classify data into a large number of categories, then you should avoid creating information bottlenecks in your network by having \n",
        "intermediate layers that are too small."
      ]
    }
  ]
}